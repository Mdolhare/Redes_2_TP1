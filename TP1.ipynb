{
 "cells": [
  {
   "cell_type": "code",
   "execution_count": 1,
   "id": "a0c8a9dd-f52d-48b8-83ae-603971a54102",
   "metadata": {
    "executionInfo": {
     "elapsed": 3411,
     "status": "ok",
     "timestamp": 1692842392689,
     "user": {
      "displayName": "MARIANO AGUSTIN DOLHARE",
      "userId": "02083329923890892529"
     },
     "user_tz": 180
    },
    "id": "a0c8a9dd-f52d-48b8-83ae-603971a54102"
   },
   "outputs": [],
   "source": [
    "from sklearn.datasets import fetch_20newsgroups\n",
    "from sklearn.feature_extraction.text import CountVectorizer, TfidfVectorizer\n",
    "from sklearn.decomposition import TruncatedSVD\n",
    "from matplotlib import pyplot as plt\n",
    "import numpy as np\n",
    "from sklearn.metrics.pairwise import cosine_similarity\n",
    "from sklearn.neighbors import NearestNeighbors\n",
    "from sklearn.decomposition import NMF, LatentDirichletAllocation, MiniBatchNMF\n",
    "from scipy.sparse import lil_matrix\n",
    "from tensorflow.keras.preprocessing.sequence import make_sampling_table, skipgrams\n",
    "from tensorflow.keras.preprocessing.text import Tokenizer\n",
    "from sklearn.preprocessing import normalize"
   ]
  },
  {
   "cell_type": "markdown",
   "id": "63309f42-f00b-42af-b6ae-4a741a0fcbce",
   "metadata": {
    "id": "63309f42-f00b-42af-b6ae-4a741a0fcbce"
   },
   "source": [
    "## Parte 1: Matriz Documento-Termino"
   ]
  },
  {
   "cell_type": "code",
   "execution_count": 2,
   "id": "07d84d8e-fd94-4512-ae99-ab0814760fbc",
   "metadata": {
    "colab": {
     "base_uri": "https://localhost:8080/",
     "height": 76
    },
    "executionInfo": {
     "elapsed": 18123,
     "status": "ok",
     "timestamp": 1692842410801,
     "user": {
      "displayName": "MARIANO AGUSTIN DOLHARE",
      "userId": "02083329923890892529"
     },
     "user_tz": 180
    },
    "id": "07d84d8e-fd94-4512-ae99-ab0814760fbc",
    "outputId": "c7b005e4-ea6a-4be4-801d-30b7d0c3a66e"
   },
   "outputs": [
    {
     "data": {
      "application/vnd.google.colaboratory.intrinsic+json": {
       "type": "string"
      },
      "text/plain": [
       "'I was wondering if anyone out there could enlighten me on this car I saw\\nthe other day. It was a 2-door sports car, looked to be from the late 60s/\\nearly 70s. It was called a Bricklin. The doors were really small. In addition,\\nthe front bumper was separate from the rest of the body. This is \\nall I know. If anyone can tellme a model name, engine specs, years\\nof production, where this car is made, history, or whatever info you\\nhave on this funky looking car, please e-mail.'"
      ]
     },
     "execution_count": 2,
     "metadata": {},
     "output_type": "execute_result"
    }
   ],
   "source": [
    "train = fetch_20newsgroups(subset=\"train\",remove=('headers', 'footers', 'quotes'))\n",
    "train.data[0]"
   ]
  },
  {
   "cell_type": "code",
   "execution_count": 3,
   "id": "84a568ce-79a6-4297-98ef-3b7cd7c14863",
   "metadata": {
    "executionInfo": {
     "elapsed": 9,
     "status": "ok",
     "timestamp": 1692842410802,
     "user": {
      "displayName": "MARIANO AGUSTIN DOLHARE",
      "userId": "02083329923890892529"
     },
     "user_tz": 180
    },
    "id": "84a568ce-79a6-4297-98ef-3b7cd7c14863"
   },
   "outputs": [],
   "source": [
    "tfidf_vec = TfidfVectorizer(max_df=0.90, min_df=2, max_features=10000, stop_words='english', ngram_range=(1, 2))"
   ]
  },
  {
   "cell_type": "code",
   "execution_count": 4,
   "id": "dcbfab4e-bdcb-4080-811f-05c52e2e59cf",
   "metadata": {
    "colab": {
     "base_uri": "https://localhost:8080/"
    },
    "executionInfo": {
     "elapsed": 9832,
     "status": "ok",
     "timestamp": 1692842420627,
     "user": {
      "displayName": "MARIANO AGUSTIN DOLHARE",
      "userId": "02083329923890892529"
     },
     "user_tz": 180
    },
    "id": "dcbfab4e-bdcb-4080-811f-05c52e2e59cf",
    "outputId": "deb774db-7435-4206-b2ba-7f763dce5660"
   },
   "outputs": [
    {
     "data": {
      "text/plain": [
       "(11314, 10000)"
      ]
     },
     "execution_count": 4,
     "metadata": {},
     "output_type": "execute_result"
    }
   ],
   "source": [
    "tfidf_matrix = tfidf_vec.fit_transform(train.data)\n",
    "tfidf_matrix.shape"
   ]
  },
  {
   "cell_type": "code",
   "execution_count": 5,
   "id": "301b367c-cdb3-480c-a873-007c8e08ac20",
   "metadata": {
    "executionInfo": {
     "elapsed": 10,
     "status": "ok",
     "timestamp": 1692842420627,
     "user": {
      "displayName": "MARIANO AGUSTIN DOLHARE",
      "userId": "02083329923890892529"
     },
     "user_tz": 180
    },
    "id": "301b367c-cdb3-480c-a873-007c8e08ac20"
   },
   "outputs": [],
   "source": [
    "count_vec = CountVectorizer(max_df=0.90, min_df=2, max_features=10000, stop_words='english', ngram_range=(1, 2))"
   ]
  },
  {
   "cell_type": "code",
   "execution_count": 6,
   "id": "4b6d3a46-2de8-4836-a618-418c56aad794",
   "metadata": {
    "colab": {
     "base_uri": "https://localhost:8080/"
    },
    "executionInfo": {
     "elapsed": 5654,
     "status": "ok",
     "timestamp": 1692842426273,
     "user": {
      "displayName": "MARIANO AGUSTIN DOLHARE",
      "userId": "02083329923890892529"
     },
     "user_tz": 180
    },
    "id": "4b6d3a46-2de8-4836-a618-418c56aad794",
    "outputId": "ce10efb0-5076-42df-dffc-2a5ae635244b"
   },
   "outputs": [
    {
     "data": {
      "text/plain": [
       "(11314, 10000)"
      ]
     },
     "execution_count": 6,
     "metadata": {},
     "output_type": "execute_result"
    }
   ],
   "source": [
    "count_matrix = count_vec.fit_transform(train.data)\n",
    "count_matrix.shape"
   ]
  },
  {
   "cell_type": "code",
   "execution_count": 7,
   "id": "fe22fca0-a780-4dee-9e76-aaa1c6181d8f",
   "metadata": {
    "colab": {
     "base_uri": "https://localhost:8080/"
    },
    "executionInfo": {
     "elapsed": 3068,
     "status": "ok",
     "timestamp": 1692842429335,
     "user": {
      "displayName": "MARIANO AGUSTIN DOLHARE",
      "userId": "02083329923890892529"
     },
     "user_tz": 180
    },
    "id": "fe22fca0-a780-4dee-9e76-aaa1c6181d8f",
    "outputId": "6cf63f4c-d682-47db-c54b-7eb2d93ca670"
   },
   "outputs": [
    {
     "data": {
      "text/plain": [
       "array([[1.        , 0.01150709, 0.05920101, ..., 0.        , 0.        ,\n",
       "        0.02811005],\n",
       "       [0.01150709, 1.        , 0.03243869, ..., 0.11755287, 0.        ,\n",
       "        0.02045994],\n",
       "       [0.05920101, 0.03243869, 1.        , ..., 0.00466065, 0.01281438,\n",
       "        0.00501411],\n",
       "       ...,\n",
       "       [0.        , 0.11755287, 0.00466065, ..., 1.        , 0.00852721,\n",
       "        0.        ],\n",
       "       [0.        , 0.        , 0.01281438, ..., 0.00852721, 1.        ,\n",
       "        0.        ],\n",
       "       [0.02811005, 0.02045994, 0.00501411, ..., 0.        , 0.        ,\n",
       "        1.        ]])"
      ]
     },
     "execution_count": 7,
     "metadata": {},
     "output_type": "execute_result"
    }
   ],
   "source": [
    "cosine_similarity(tfidf_matrix)"
   ]
  },
  {
   "cell_type": "code",
   "execution_count": 8,
   "id": "4800ece1-f306-4c2f-b226-6299ff04661e",
   "metadata": {
    "colab": {
     "base_uri": "https://localhost:8080/"
    },
    "executionInfo": {
     "elapsed": 2335,
     "status": "ok",
     "timestamp": 1692842431990,
     "user": {
      "displayName": "MARIANO AGUSTIN DOLHARE",
      "userId": "02083329923890892529"
     },
     "user_tz": 180
    },
    "id": "4800ece1-f306-4c2f-b226-6299ff04661e",
    "outputId": "ae5a0479-7d4a-4074-d8a9-017f082e9608"
   },
   "outputs": [
    {
     "data": {
      "text/plain": [
       "array([[1.        , 0.02037848, 0.09448591, ..., 0.        , 0.        ,\n",
       "        0.02577696],\n",
       "       [0.02037848, 1.        , 0.05519707, ..., 0.11626704, 0.        ,\n",
       "        0.0451754 ],\n",
       "       [0.09448591, 0.05519707, 1.        , ..., 0.01996587, 0.01301007,\n",
       "        0.01163656],\n",
       "       ...,\n",
       "       [0.        , 0.11626704, 0.01996587, ..., 1.        , 0.0182696 ,\n",
       "        0.        ],\n",
       "       [0.        , 0.        , 0.01301007, ..., 0.0182696 , 1.        ,\n",
       "        0.        ],\n",
       "       [0.02577696, 0.0451754 , 0.01163656, ..., 0.        , 0.        ,\n",
       "        1.        ]])"
      ]
     },
     "execution_count": 8,
     "metadata": {},
     "output_type": "execute_result"
    }
   ],
   "source": [
    "cosine_similarity(count_matrix)"
   ]
  },
  {
   "cell_type": "code",
   "execution_count": 9,
   "id": "689131a6-af5c-4f94-9528-615bb85f78c7",
   "metadata": {
    "colab": {
     "base_uri": "https://localhost:8080/"
    },
    "executionInfo": {
     "elapsed": 11,
     "status": "ok",
     "timestamp": 1692842431990,
     "user": {
      "displayName": "MARIANO AGUSTIN DOLHARE",
      "userId": "02083329923890892529"
     },
     "user_tz": 180
    },
    "id": "689131a6-af5c-4f94-9528-615bb85f78c7",
    "outputId": "6f184cf7-0e34-41c0-e77d-039b85403739"
   },
   "outputs": [
    {
     "data": {
      "text/plain": [
       "array([[1.        , 0.01150709, 0.05920101, ..., 0.        , 0.        ,\n",
       "        0.02811005]])"
      ]
     },
     "execution_count": 9,
     "metadata": {},
     "output_type": "execute_result"
    }
   ],
   "source": [
    "doc0_sim = cosine_similarity(tfidf_matrix[0], tfidf_matrix)\n",
    "doc0_sim"
   ]
  },
  {
   "cell_type": "code",
   "execution_count": 10,
   "id": "6701ecad-3511-4e6a-8303-a9f625ef76c6",
   "metadata": {
    "colab": {
     "base_uri": "https://localhost:8080/"
    },
    "executionInfo": {
     "elapsed": 377,
     "status": "ok",
     "timestamp": 1692842432364,
     "user": {
      "displayName": "MARIANO AGUSTIN DOLHARE",
      "userId": "02083329923890892529"
     },
     "user_tz": 180
    },
    "id": "6701ecad-3511-4e6a-8303-a9f625ef76c6",
    "outputId": "a022036c-db61-488b-aa58-a6ec507fcd3e"
   },
   "outputs": [
    {
     "data": {
      "text/plain": [
       "(array([0, 0, 0, 0, 0, 0, 0, 0, 0, 0, 0, 0, 0, 0, 0, 0, 0, 0, 0, 0, 0, 0,\n",
       "        0, 0, 0, 0, 0, 0, 0, 0, 0, 0, 0, 0, 0, 0, 0, 0, 0]),\n",
       " array([    0,   596,   763,   771,  1082,  1224,  2086,  2519,  2554,\n",
       "         3112,  3819,  5282,  5308,  5317,  5553,  6055,  6330,  6418,\n",
       "         6510,  6581,  6627,  6997,  7807,  7861,  7993,  8013,  8266,\n",
       "         8364,  8491,  8536,  8540,  8863,  8924,  9629,  9767, 10024,\n",
       "        10209, 11077, 11208]))"
      ]
     },
     "execution_count": 10,
     "metadata": {},
     "output_type": "execute_result"
    }
   ],
   "source": [
    "indices = np.where(doc0_sim > 0.2)\n",
    "indices"
   ]
  },
  {
   "cell_type": "code",
   "execution_count": 11,
   "id": "084b5933-54c4-4b11-ba7b-1d2061d7d512",
   "metadata": {
    "colab": {
     "base_uri": "https://localhost:8080/",
     "height": 114
    },
    "executionInfo": {
     "elapsed": 16,
     "status": "ok",
     "timestamp": 1692842432365,
     "user": {
      "displayName": "MARIANO AGUSTIN DOLHARE",
      "userId": "02083329923890892529"
     },
     "user_tz": 180
    },
    "id": "084b5933-54c4-4b11-ba7b-1d2061d7d512",
    "outputId": "2d583261-8ec2-40a9-8b87-cea3bb0f08f9"
   },
   "outputs": [
    {
     "data": {
      "application/vnd.google.colaboratory.intrinsic+json": {
       "type": "string"
      },
      "text/plain": [
       "\"Anybody got any good/bad experience with selling their car through one of\\nthose car hunters?  I'm selling a 1991 Dodge Stealth R/T and I was contacted\\nby this company called the Markham group based out of Illinois.  \\n\\nThey said they have 7-10 buyers in my area interested in my car or they wouldn't\\nbe talking to me.  They talked to me for a good 20 minutes asking everything\\nabout my car and said they could sell it no problem.  They guaranteed that if\\nthey didn't sell my car in 75 days, I would get my money back ($389) and since\\nI charged it, I'm protected by federal law which states that if I'm not satisfied,\\nI would get a refund (which is true).  They federal expressed all the paperwork \\nto me which had a contract stating their policy about the 75 days and such.\""
      ]
     },
     "execution_count": 11,
     "metadata": {},
     "output_type": "execute_result"
    }
   ],
   "source": [
    "train.data[1082]"
   ]
  },
  {
   "cell_type": "code",
   "execution_count": 12,
   "id": "b7fdf08f-3d8b-4a52-a510-5c1656b86d32",
   "metadata": {
    "colab": {
     "base_uri": "https://localhost:8080/"
    },
    "executionInfo": {
     "elapsed": 15,
     "status": "ok",
     "timestamp": 1692842432366,
     "user": {
      "displayName": "MARIANO AGUSTIN DOLHARE",
      "userId": "02083329923890892529"
     },
     "user_tz": 180
    },
    "id": "b7fdf08f-3d8b-4a52-a510-5c1656b86d32",
    "outputId": "69b099b0-11d7-42c4-f10f-533e1601a78c"
   },
   "outputs": [
    {
     "data": {
      "text/plain": [
       "(array([0, 0, 0, 0, 0, 0, 0, 0, 0, 0, 0, 0, 0, 0, 0, 0, 0, 0, 0, 0, 0, 0,\n",
       "        0, 0, 0, 0, 0, 0, 0, 0, 0, 0, 0, 0, 0, 0, 0, 0, 0]),\n",
       " array([    0,   596,   763,   771,  1082,  1224,  2086,  2519,  2554,\n",
       "         3112,  3819,  5282,  5308,  5317,  5553,  6055,  6330,  6418,\n",
       "         6510,  6581,  6627,  6997,  7807,  7861,  7993,  8013,  8266,\n",
       "         8364,  8491,  8536,  8540,  8863,  8924,  9629,  9767, 10024,\n",
       "        10209, 11077, 11208]))"
      ]
     },
     "execution_count": 12,
     "metadata": {},
     "output_type": "execute_result"
    }
   ],
   "source": [
    "indices = np.where(doc0_sim > 0.2)\n",
    "indices"
   ]
  },
  {
   "cell_type": "markdown",
   "id": "84940c01-357d-4c75-b98f-8ca760ee721f",
   "metadata": {
    "id": "84940c01-357d-4c75-b98f-8ca760ee721f"
   },
   "source": [
    "## Parte 2: Truncated SVD"
   ]
  },
  {
   "cell_type": "code",
   "execution_count": 13,
   "id": "6452ae86-d7d5-405a-a46b-99346a15209f",
   "metadata": {
    "executionInfo": {
     "elapsed": 11,
     "status": "ok",
     "timestamp": 1692842432367,
     "user": {
      "displayName": "MARIANO AGUSTIN DOLHARE",
      "userId": "02083329923890892529"
     },
     "user_tz": 180
    },
    "id": "6452ae86-d7d5-405a-a46b-99346a15209f"
   },
   "outputs": [],
   "source": [
    "red = TruncatedSVD(n_components=500)"
   ]
  },
  {
   "cell_type": "code",
   "execution_count": 14,
   "id": "e1c95dd6-8ada-4d60-9bdf-eb803ad5dcb1",
   "metadata": {
    "colab": {
     "base_uri": "https://localhost:8080/"
    },
    "executionInfo": {
     "elapsed": 13936,
     "status": "ok",
     "timestamp": 1692842446293,
     "user": {
      "displayName": "MARIANO AGUSTIN DOLHARE",
      "userId": "02083329923890892529"
     },
     "user_tz": 180
    },
    "id": "e1c95dd6-8ada-4d60-9bdf-eb803ad5dcb1",
    "outputId": "e96a573b-0571-4abf-dcde-5a27e1010397"
   },
   "outputs": [
    {
     "data": {
      "text/plain": [
       "array([[ 0.13222296,  0.02096677, -0.00830601, ...,  0.03745807,\n",
       "         0.00357795,  0.01301982],\n",
       "       [ 0.07552046,  0.06374432, -0.00132505, ..., -0.00857671,\n",
       "        -0.00754528,  0.01769943],\n",
       "       [ 0.23253291,  0.06565105,  0.00099817, ..., -0.00645781,\n",
       "        -0.00147018,  0.00680242],\n",
       "       ...,\n",
       "       [ 0.05881021,  0.03161327,  0.00197326, ...,  0.04457938,\n",
       "         0.01787445, -0.02612619],\n",
       "       [ 0.07695433, -0.02393144, -0.00712309, ...,  0.02720137,\n",
       "         0.02947992, -0.0183239 ],\n",
       "       [ 0.06901427,  0.02159481, -0.00194965, ...,  0.00395454,\n",
       "         0.01518472, -0.00903044]])"
      ]
     },
     "execution_count": 14,
     "metadata": {},
     "output_type": "execute_result"
    }
   ],
   "source": [
    "tfidf_matrix_red = red.fit_transform(tfidf_matrix)\n",
    "tfidf_matrix_red"
   ]
  },
  {
   "cell_type": "code",
   "execution_count": 15,
   "id": "bbd05c7a-8900-43d7-ad86-597dafc7462a",
   "metadata": {
    "colab": {
     "base_uri": "https://localhost:8080/"
    },
    "executionInfo": {
     "elapsed": 4160,
     "status": "ok",
     "timestamp": 1692842450444,
     "user": {
      "displayName": "MARIANO AGUSTIN DOLHARE",
      "userId": "02083329923890892529"
     },
     "user_tz": 180
    },
    "id": "bbd05c7a-8900-43d7-ad86-597dafc7462a",
    "outputId": "26f8b56e-d0e1-4a6d-eae1-f6aa32a2d771"
   },
   "outputs": [
    {
     "data": {
      "text/plain": [
       "array([[ 1.        ,  0.03768581,  0.15346158, ...,  0.00338708,\n",
       "        -0.00879139,  0.08255598],\n",
       "       [ 0.03768581,  1.        ,  0.14980072, ...,  0.31093065,\n",
       "         0.03880275,  0.07688204],\n",
       "       [ 0.15346158,  0.14980072,  1.        , ...,  0.07396756,\n",
       "         0.00832134,  0.01869046],\n",
       "       ...,\n",
       "       [ 0.00338708,  0.31093065,  0.07396756, ...,  1.        ,\n",
       "         0.02885778, -0.01277499],\n",
       "       [-0.00879139,  0.03880275,  0.00832134, ...,  0.02885778,\n",
       "         1.        , -0.01420361],\n",
       "       [ 0.08255598,  0.07688204,  0.01869046, ..., -0.01277499,\n",
       "        -0.01420361,  1.        ]])"
      ]
     },
     "execution_count": 15,
     "metadata": {},
     "output_type": "execute_result"
    }
   ],
   "source": [
    "cosine_similarity(tfidf_matrix_red)"
   ]
  },
  {
   "cell_type": "code",
   "execution_count": 16,
   "id": "054dfb9a-9f29-4eca-91f4-01a2b5b51245",
   "metadata": {
    "colab": {
     "base_uri": "https://localhost:8080/"
    },
    "executionInfo": {
     "elapsed": 31,
     "status": "ok",
     "timestamp": 1692842450446,
     "user": {
      "displayName": "MARIANO AGUSTIN DOLHARE",
      "userId": "02083329923890892529"
     },
     "user_tz": 180
    },
    "id": "054dfb9a-9f29-4eca-91f4-01a2b5b51245",
    "outputId": "e5b73b73-ed71-46a1-f1fd-657b30719bc8"
   },
   "outputs": [
    {
     "data": {
      "text/plain": [
       "(array([0, 0, 0, 0, 0, 0, 0, 0, 0, 0, 0, 0, 0, 0, 0, 0, 0, 0, 0, 0, 0, 0,\n",
       "        0, 0, 0, 0, 0, 0, 0, 0, 0, 0, 0, 0, 0, 0, 0, 0, 0]),\n",
       " array([    0,   596,   763,   771,  1082,  1224,  2086,  2519,  2554,\n",
       "         3112,  3819,  5282,  5308,  5317,  5553,  6055,  6330,  6418,\n",
       "         6510,  6581,  6627,  6997,  7807,  7861,  7993,  8013,  8266,\n",
       "         8364,  8491,  8536,  8540,  8863,  8924,  9629,  9767, 10024,\n",
       "        10209, 11077, 11208]))"
      ]
     },
     "execution_count": 16,
     "metadata": {},
     "output_type": "execute_result"
    }
   ],
   "source": [
    "doc0_sim = cosine_similarity(tfidf_matrix[0], tfidf_matrix)\n",
    "indices = np.where(doc0_sim > 0.2)\n",
    "indices"
   ]
  },
  {
   "cell_type": "markdown",
   "id": "d63ef179-4814-46ce-bbe3-712332b08d35",
   "metadata": {
    "id": "d63ef179-4814-46ce-bbe3-712332b08d35"
   },
   "source": [
    "## Parte 3: Matriz Termino-Documento"
   ]
  },
  {
   "cell_type": "code",
   "execution_count": 17,
   "id": "fe62e03c-ddd6-4f3d-a606-23bfe1491a3e",
   "metadata": {
    "executionInfo": {
     "elapsed": 14467,
     "status": "ok",
     "timestamp": 1692842464902,
     "user": {
      "displayName": "MARIANO AGUSTIN DOLHARE",
      "userId": "02083329923890892529"
     },
     "user_tz": 180
    },
    "id": "fe62e03c-ddd6-4f3d-a606-23bfe1491a3e"
   },
   "outputs": [],
   "source": [
    "matTranspose = red.fit_transform(tfidf_matrix.T)"
   ]
  },
  {
   "cell_type": "code",
   "execution_count": 18,
   "id": "d355d9ce-64ee-48ab-b857-bc13bf462522",
   "metadata": {
    "colab": {
     "base_uri": "https://localhost:8080/",
     "height": 74
    },
    "executionInfo": {
     "elapsed": 49,
     "status": "ok",
     "timestamp": 1692842464903,
     "user": {
      "displayName": "MARIANO AGUSTIN DOLHARE",
      "userId": "02083329923890892529"
     },
     "user_tz": 180
    },
    "id": "d355d9ce-64ee-48ab-b857-bc13bf462522",
    "outputId": "7237a888-4057-471e-b61e-e43593466013"
   },
   "outputs": [
    {
     "data": {
      "text/html": [
       "<style>#sk-container-id-1 {color: black;background-color: white;}#sk-container-id-1 pre{padding: 0;}#sk-container-id-1 div.sk-toggleable {background-color: white;}#sk-container-id-1 label.sk-toggleable__label {cursor: pointer;display: block;width: 100%;margin-bottom: 0;padding: 0.3em;box-sizing: border-box;text-align: center;}#sk-container-id-1 label.sk-toggleable__label-arrow:before {content: \"▸\";float: left;margin-right: 0.25em;color: #696969;}#sk-container-id-1 label.sk-toggleable__label-arrow:hover:before {color: black;}#sk-container-id-1 div.sk-estimator:hover label.sk-toggleable__label-arrow:before {color: black;}#sk-container-id-1 div.sk-toggleable__content {max-height: 0;max-width: 0;overflow: hidden;text-align: left;background-color: #f0f8ff;}#sk-container-id-1 div.sk-toggleable__content pre {margin: 0.2em;color: black;border-radius: 0.25em;background-color: #f0f8ff;}#sk-container-id-1 input.sk-toggleable__control:checked~div.sk-toggleable__content {max-height: 200px;max-width: 100%;overflow: auto;}#sk-container-id-1 input.sk-toggleable__control:checked~label.sk-toggleable__label-arrow:before {content: \"▾\";}#sk-container-id-1 div.sk-estimator input.sk-toggleable__control:checked~label.sk-toggleable__label {background-color: #d4ebff;}#sk-container-id-1 div.sk-label input.sk-toggleable__control:checked~label.sk-toggleable__label {background-color: #d4ebff;}#sk-container-id-1 input.sk-hidden--visually {border: 0;clip: rect(1px 1px 1px 1px);clip: rect(1px, 1px, 1px, 1px);height: 1px;margin: -1px;overflow: hidden;padding: 0;position: absolute;width: 1px;}#sk-container-id-1 div.sk-estimator {font-family: monospace;background-color: #f0f8ff;border: 1px dotted black;border-radius: 0.25em;box-sizing: border-box;margin-bottom: 0.5em;}#sk-container-id-1 div.sk-estimator:hover {background-color: #d4ebff;}#sk-container-id-1 div.sk-parallel-item::after {content: \"\";width: 100%;border-bottom: 1px solid gray;flex-grow: 1;}#sk-container-id-1 div.sk-label:hover label.sk-toggleable__label {background-color: #d4ebff;}#sk-container-id-1 div.sk-serial::before {content: \"\";position: absolute;border-left: 1px solid gray;box-sizing: border-box;top: 0;bottom: 0;left: 50%;z-index: 0;}#sk-container-id-1 div.sk-serial {display: flex;flex-direction: column;align-items: center;background-color: white;padding-right: 0.2em;padding-left: 0.2em;position: relative;}#sk-container-id-1 div.sk-item {position: relative;z-index: 1;}#sk-container-id-1 div.sk-parallel {display: flex;align-items: stretch;justify-content: center;background-color: white;position: relative;}#sk-container-id-1 div.sk-item::before, #sk-container-id-1 div.sk-parallel-item::before {content: \"\";position: absolute;border-left: 1px solid gray;box-sizing: border-box;top: 0;bottom: 0;left: 50%;z-index: -1;}#sk-container-id-1 div.sk-parallel-item {display: flex;flex-direction: column;z-index: 1;position: relative;background-color: white;}#sk-container-id-1 div.sk-parallel-item:first-child::after {align-self: flex-end;width: 50%;}#sk-container-id-1 div.sk-parallel-item:last-child::after {align-self: flex-start;width: 50%;}#sk-container-id-1 div.sk-parallel-item:only-child::after {width: 0;}#sk-container-id-1 div.sk-dashed-wrapped {border: 1px dashed gray;margin: 0 0.4em 0.5em 0.4em;box-sizing: border-box;padding-bottom: 0.4em;background-color: white;}#sk-container-id-1 div.sk-label label {font-family: monospace;font-weight: bold;display: inline-block;line-height: 1.2em;}#sk-container-id-1 div.sk-label-container {text-align: center;}#sk-container-id-1 div.sk-container {/* jupyter's `normalize.less` sets `[hidden] { display: none; }` but bootstrap.min.css set `[hidden] { display: none !important; }` so we also need the `!important` here to be able to override the default hidden behavior on the sphinx rendered scikit-learn.org. See: https://github.com/scikit-learn/scikit-learn/issues/21755 */display: inline-block !important;position: relative;}#sk-container-id-1 div.sk-text-repr-fallback {display: none;}</style><div id=\"sk-container-id-1\" class=\"sk-top-container\"><div class=\"sk-text-repr-fallback\"><pre>NearestNeighbors(metric=&#x27;cosine&#x27;, n_neighbors=20)</pre><b>In a Jupyter environment, please rerun this cell to show the HTML representation or trust the notebook. <br />On GitHub, the HTML representation is unable to render, please try loading this page with nbviewer.org.</b></div><div class=\"sk-container\" hidden><div class=\"sk-item\"><div class=\"sk-estimator sk-toggleable\"><input class=\"sk-toggleable__control sk-hidden--visually\" id=\"sk-estimator-id-1\" type=\"checkbox\" checked><label for=\"sk-estimator-id-1\" class=\"sk-toggleable__label sk-toggleable__label-arrow\">NearestNeighbors</label><div class=\"sk-toggleable__content\"><pre>NearestNeighbors(metric=&#x27;cosine&#x27;, n_neighbors=20)</pre></div></div></div></div></div>"
      ],
      "text/plain": [
       "NearestNeighbors(metric='cosine', n_neighbors=20)"
      ]
     },
     "execution_count": 18,
     "metadata": {},
     "output_type": "execute_result"
    }
   ],
   "source": [
    "neigh = NearestNeighbors(n_neighbors=20, metric=\"cosine\")\n",
    "neigh.fit(matTranspose)"
   ]
  },
  {
   "cell_type": "code",
   "execution_count": 19,
   "id": "b05cfc9a-16ad-4995-9168-6050b6a0f844",
   "metadata": {
    "executionInfo": {
     "elapsed": 38,
     "status": "ok",
     "timestamp": 1692842464904,
     "user": {
      "displayName": "MARIANO AGUSTIN DOLHARE",
      "userId": "02083329923890892529"
     },
     "user_tz": 180
    },
    "id": "b05cfc9a-16ad-4995-9168-6050b6a0f844"
   },
   "outputs": [],
   "source": [
    "idx_1 = tfidf_vec.vocabulary_[\"engineer\"]\n",
    "_, neig = neigh.kneighbors(matTranspose[idx_1:idx_1+1])"
   ]
  },
  {
   "cell_type": "code",
   "execution_count": 20,
   "id": "b48112b3-b32c-40ba-8728-399828c980b3",
   "metadata": {
    "colab": {
     "base_uri": "https://localhost:8080/"
    },
    "executionInfo": {
     "elapsed": 35,
     "status": "ok",
     "timestamp": 1692842464905,
     "user": {
      "displayName": "MARIANO AGUSTIN DOLHARE",
      "userId": "02083329923890892529"
     },
     "user_tz": 180
    },
    "id": "b48112b3-b32c-40ba-8728-399828c980b3",
    "outputId": "9f00b471-47b8-4199-a04c-43332913fb01"
   },
   "outputs": [
    {
     "name": "stdout",
     "output_type": "stream",
     "text": [
      "engineer\n",
      "computer science\n",
      "computer\n",
      "pasadena\n",
      "retired\n",
      "don work\n",
      "jpl nasa\n",
      "kgb\n",
      "818\n",
      "reverse\n",
      "damned\n",
      "engineers\n",
      "electrical\n",
      "jpl\n",
      "lawrence\n",
      "office\n",
      "cs\n",
      "electricity\n",
      "applelink\n",
      "hardware software\n"
     ]
    }
   ],
   "source": [
    "for n in neig[0]:\n",
    "    print(tfidf_vec.get_feature_names_out()[n])"
   ]
  },
  {
   "cell_type": "code",
   "execution_count": 21,
   "id": "3ac8ee3f-7fd8-46bf-80ea-3a1f5139e861",
   "metadata": {
    "executionInfo": {
     "elapsed": 23,
     "status": "ok",
     "timestamp": 1692842464905,
     "user": {
      "displayName": "MARIANO AGUSTIN DOLHARE",
      "userId": "02083329923890892529"
     },
     "user_tz": 180
    },
    "id": "3ac8ee3f-7fd8-46bf-80ea-3a1f5139e861"
   },
   "outputs": [],
   "source": [
    "idx_1 = tfidf_vec.vocabulary_[\"chemical\"]\n",
    "_, neig = neigh.kneighbors(matTranspose[idx_1:idx_1+1])"
   ]
  },
  {
   "cell_type": "code",
   "execution_count": 22,
   "id": "3dcb6c26-c9b1-4677-a751-0cbad912ded6",
   "metadata": {
    "colab": {
     "base_uri": "https://localhost:8080/"
    },
    "executionInfo": {
     "elapsed": 23,
     "status": "ok",
     "timestamp": 1692842464906,
     "user": {
      "displayName": "MARIANO AGUSTIN DOLHARE",
      "userId": "02083329923890892529"
     },
     "user_tz": 180
    },
    "id": "3dcb6c26-c9b1-4677-a751-0cbad912ded6",
    "outputId": "75c3a28c-5a57-45b5-d1bf-a7adec5c9c03"
   },
   "outputs": [
    {
     "name": "stdout",
     "output_type": "stream",
     "text": [
      "chemical\n",
      "weapons\n",
      "nuclear weapons\n",
      "weapon\n",
      "biological\n",
      "automatic weapons\n",
      "semi automatic\n",
      "chemicals\n",
      "destruction\n",
      "nuclear\n",
      "reactions\n",
      "mass\n",
      "bomb\n",
      "amounts\n",
      "iranian\n",
      "retired\n",
      "2923\n",
      "ban\n",
      "explosive\n",
      "automatic\n"
     ]
    }
   ],
   "source": [
    "for n in neig[0]:\n",
    "    print(tfidf_vec.get_feature_names_out()[n])"
   ]
  },
  {
   "cell_type": "code",
   "execution_count": 31,
   "id": "kXoI6jjRQsfb",
   "metadata": {
    "executionInfo": {
     "elapsed": 34,
     "status": "ok",
     "timestamp": 1692842583218,
     "user": {
      "displayName": "MARIANO AGUSTIN DOLHARE",
      "userId": "02083329923890892529"
     },
     "user_tz": 180
    },
    "id": "kXoI6jjRQsfb"
   },
   "outputs": [],
   "source": [
    "idx_1 = tfidf_vec.vocabulary_[\"master\"]\n",
    "idx_2 = tfidf_vec.vocabulary_[\"engineer\"]\n",
    "idx_3 = tfidf_vec.vocabulary_[\"student\"]"
   ]
  },
  {
   "cell_type": "code",
   "execution_count": 44,
   "id": "Yq4Gt5-4QvoU",
   "metadata": {
    "colab": {
     "base_uri": "https://localhost:8080/"
    },
    "executionInfo": {
     "elapsed": 402,
     "status": "ok",
     "timestamp": 1692842719036,
     "user": {
      "displayName": "MARIANO AGUSTIN DOLHARE",
      "userId": "02083329923890892529"
     },
     "user_tz": 180
    },
    "id": "Yq4Gt5-4QvoU",
    "outputId": "10db89ec-e5d9-4115-d159-9649429aac41"
   },
   "outputs": [
    {
     "name": "stdout",
     "output_type": "stream",
     "text": [
      "student\n",
      "technician\n",
      "engineer\n",
      "dr\n",
      "grad\n",
      "dod\n",
      "jd\n",
      "ubc\n",
      "ubc ca\n",
      "ee\n",
      "engineering\n",
      "just say\n",
      "santa barbara\n",
      "ca\n",
      "logically\n",
      "graduate\n",
      "lets\n",
      "tale\n",
      "barbara\n",
      "mcgill\n"
     ]
    }
   ],
   "source": [
    "vector = matTranspose[idx_2]-matTranspose[idx_1]+matTranspose[idx_3]\n",
    "_, neig = neigh.kneighbors([vector])\n",
    "for n in neig[0]:\n",
    "    print(tfidf_vec.get_feature_names_out()[n])"
   ]
  },
  {
   "cell_type": "markdown",
   "id": "ead1fe29-f7a1-4e8e-9c51-66c5663c8508",
   "metadata": {
    "id": "ead1fe29-f7a1-4e8e-9c51-66c5663c8508"
   },
   "source": [
    "## Parte 4: Matriz Termino-Clase"
   ]
  },
  {
   "cell_type": "code",
   "execution_count": 33,
   "id": "83854751-3f37-40d0-a458-3e4aff5f5c59",
   "metadata": {
    "colab": {
     "base_uri": "https://localhost:8080/"
    },
    "executionInfo": {
     "elapsed": 42227,
     "status": "ok",
     "timestamp": 1692842667956,
     "user": {
      "displayName": "MARIANO AGUSTIN DOLHARE",
      "userId": "02083329923890892529"
     },
     "user_tz": 180
    },
    "id": "83854751-3f37-40d0-a458-3e4aff5f5c59",
    "outputId": "db70385f-d831-4aae-904d-dd8218275df1"
   },
   "outputs": [
    {
     "name": "stderr",
     "output_type": "stream",
     "text": [
      "/usr/local/lib/python3.10/dist-packages/sklearn/decomposition/_nmf.py:1665: ConvergenceWarning: Maximum number of iterations 1000 reached. Increase it to improve convergence.\n",
      "  warnings.warn(\n"
     ]
    }
   ],
   "source": [
    "no_topics = 20\n",
    "\n",
    "nmf = NMF(n_components=no_topics, random_state=1, alpha_W=0.5,\n",
    "          l1_ratio=1, init='nndsvd', beta_loss=\"frobenius\", max_iter=1000).fit(tfidf_matrix)"
   ]
  },
  {
   "cell_type": "code",
   "execution_count": 34,
   "id": "2f59b327-aae1-4fe6-a432-9b33faee7aad",
   "metadata": {
    "colab": {
     "base_uri": "https://localhost:8080/"
    },
    "executionInfo": {
     "elapsed": 11,
     "status": "ok",
     "timestamp": 1692842667957,
     "user": {
      "displayName": "MARIANO AGUSTIN DOLHARE",
      "userId": "02083329923890892529"
     },
     "user_tz": 180
    },
    "id": "2f59b327-aae1-4fe6-a432-9b33faee7aad",
    "outputId": "963a55a9-bfa8-45e2-ae67-c1e073ae7b39"
   },
   "outputs": [
    {
     "name": "stdout",
     "output_type": "stream",
     "text": [
      "Topic 0:\n",
      "don just like know people think does good use time god ve thanks new make way want say right need\n",
      "Topic 1:\n",
      "windows thanks card drive dos file mail advance use files software pc thanks advance program hi scsi video disk window looking\n",
      "Topic 2:\n",
      "geb pitt edu gordon banks cadre dsl geb cadre dsl shameful surrender edu shameful dsl pitt surrender soon intellect geb chastity n3jxp skepticism skepticism chastity banks n3jxp n3jxp chastity intellect cadre shameful pitt\n",
      "Topic 3:\n",
      "god jesus does windows thanks bible faith christ christians christian believe know advance thanks advance file files church dos hi does know\n",
      "Topic 4:\n",
      "key chip encryption government clipper keys use public file law escrow people program algorithm clipper chip security information window nsa secure\n",
      "Topic 5:\n",
      "drive scsi key chip disk drives hard ide controller card hard drive floppy bus encryption clipper god government bit use keys\n",
      "Topic 6:\n",
      "thanks does mail know thanks advance advance does know email drive address chip info information interested key looking send anybody phone hi\n",
      "Topic 7:\n",
      "god 00 edu sale 10 key jesus new space games com game team shipping offer email 15 20 11 year\n",
      "Topic 8:\n",
      "key game chip god team does clipper games encryption keys know players season play hockey bit escrow does know win clipper chip\n",
      "Topic 9:\n",
      "israel drive game team scsi people israeli jews does armenian games government thanks players armenians hockey turkish play ide arab\n",
      "Topic 10:\n",
      "card video monitor does video card drivers cards bus vga driver israel color ati price 00 does know mode vlb sale memory\n",
      "Topic 11:\n",
      "car windows israel thanks new window does bike key drive dos god advance thanks advance israeli armenian jews cars miles keys\n",
      "Topic 12:\n",
      "does window space does know problem use motif israel display server know nasa widget application data time window manager sun using screen\n",
      "Topic 13:\n",
      "does know does know 00 don file space windows don know dos drive files car ftp does anybody new program nasa anybody anybody know\n",
      "Topic 14:\n",
      "window don 00 israel sale offer know edu shipping israeli don know motif condition jews want use window manager price asking best offer\n",
      "Topic 15:\n",
      "just edu israel com key file israeli jews ve ftp car bike scsi arab did jewish arabs know list said\n",
      "Topic 16:\n",
      "com car edu window gun scsi right law guns card people drivers does driver ftp drive cars government bus crime\n",
      "Topic 17:\n",
      "know armenian don armenians don know turkish window said key armenia turkey genocide chip scsi problem turks 00 did time jesus\n",
      "Topic 18:\n",
      "just like does people armenian scsi government turkish armenians msg new genocide motif sounds turkey game does know turks stuff mean\n",
      "Topic 19:\n",
      "window space windows scsi just think car 00 com new nasa thanks manager right dos window manager ide bus card list\n"
     ]
    }
   ],
   "source": [
    "tfidf_feature_names = tfidf_vec.get_feature_names_out()\n",
    "\n",
    "def display_topics(model, feature_names, no_top_words):\n",
    "    for topic_idx, topic in enumerate(model.components_):\n",
    "        print(\"Topic %d:\" % (topic_idx))\n",
    "        print(\" \".join([feature_names[i]\n",
    "                        for i in topic.argsort()[:-no_top_words - 1:-1]]))\n",
    "\n",
    "display_topics(nmf, tfidf_feature_names, no_topics)"
   ]
  },
  {
   "cell_type": "code",
   "execution_count": 35,
   "id": "9fa05165-6bb6-42fc-b870-02ccdca5d1c5",
   "metadata": {
    "colab": {
     "base_uri": "https://localhost:8080/"
    },
    "executionInfo": {
     "elapsed": 30381,
     "status": "ok",
     "timestamp": 1692842698333,
     "user": {
      "displayName": "MARIANO AGUSTIN DOLHARE",
      "userId": "02083329923890892529"
     },
     "user_tz": 180
    },
    "id": "9fa05165-6bb6-42fc-b870-02ccdca5d1c5",
    "outputId": "38cea107-5093-429c-9e21-5ec7ea62e9d9"
   },
   "outputs": [
    {
     "name": "stdout",
     "output_type": "stream",
     "text": [
      "Topic 0:\n",
      "10 25 12 11 16 15 13 14 17 20 18 24 000 55 21 19 26 27 23 22\n",
      "Topic 1:\n",
      "thanks edu mail know advance does looking help email hi post send appreciated anybody info thanks advance address information reply like\n",
      "Topic 2:\n",
      "president mr stephanopoulos mr stephanopoulos states new april united health 1993 national united states american washington press program congress jobs administration house\n",
      "Topic 3:\n",
      "disease patients medical pain doctor edu gordon lib pitt treatment banks blood soon surrender patient skepticism pitt edu gordon banks diseases intellect\n",
      "Topic 4:\n",
      "cd sound new radio sale offer auto unit channel price brand shipping tape audio asking radar amp best offer stereo tv\n",
      "Topic 5:\n",
      "com runs hit ground lost home neutral wire cubs dog ball run won pitching san dave braves bob milwaukee average\n",
      "Topic 6:\n",
      "drive use card disk scsi bit problem like does hard work need using just used mac memory speed drives video\n",
      "Topic 7:\n",
      "don just people like think know time good say make ve way going right want did really ll said sure\n",
      "Topic 8:\n",
      "key government gun law encryption public chip security clipper keys use privacy guns enforcement information des crime used law enforcement federal\n",
      "Topic 9:\n",
      "cx c_ ah w7 hz lk chz mv ck bh ra t7 17 s6 sp uw sk 34u w1 pl\n",
      "Topic 10:\n",
      "00 50 93 20 15 10 30 02 01 03 04 1993 92 25 conference dos edu april bos 250\n",
      "Topic 11:\n",
      "ms pt mm mp p2 mu tm 04 di sl p3 mr ql bj th hm p1 ml rl m4\n",
      "Topic 12:\n",
      "team game year games db hockey season play players league nhl teams win good player best think better division points\n",
      "Topic 13:\n",
      "car bike good condition black sale cover dod excellent price wiring picture sell miles cars new book hp motorcycle 100\n",
      "Topic 14:\n",
      "god jesus does people believe bible christian church religion life faith say christ christians evidence true law truth word man\n",
      "Topic 15:\n",
      "space nasa data research science earth high launch information technology scientific center orbit moon satellite mission shuttle cost program lunar\n",
      "Topic 16:\n",
      "israel armenian people armenians war turkish jews said israeli government killed turkey turks jewish greek arab armenia soldiers world children\n",
      "Topic 17:\n",
      "ax ax ax max max ax ax max g9v g9v g9v b8f a86 pl 1d9 a86 a86 145 b8f b8f 1t 3t bhj giz 0t 75u\n",
      "Topic 18:\n",
      "edu file windows use com available files ftp version window software program image server graphics using pub information list mail\n",
      "Topic 19:\n",
      "entry file output program section int entries null rules build water char return title define info printf string stream line\n"
     ]
    }
   ],
   "source": [
    "lda = LatentDirichletAllocation(n_components=no_topics, max_iter=5,\n",
    "                                learning_method='online', learning_offset=50.,random_state=0).fit(count_matrix)\n",
    "\n",
    "count_feature_names = count_vec.get_feature_names_out()\n",
    "\n",
    "display_topics(lda, count_feature_names, no_topics)"
   ]
  },
  {
   "cell_type": "code",
   "execution_count": 36,
   "id": "6ef456c7-df05-45f3-9363-eb8baeeb0b3e",
   "metadata": {
    "colab": {
     "base_uri": "https://localhost:8080/"
    },
    "executionInfo": {
     "elapsed": 11125,
     "status": "ok",
     "timestamp": 1692842709452,
     "user": {
      "displayName": "MARIANO AGUSTIN DOLHARE",
      "userId": "02083329923890892529"
     },
     "user_tz": 180
    },
    "id": "6ef456c7-df05-45f3-9363-eb8baeeb0b3e",
    "outputId": "79bbbcb2-09b0-4125-92ea-beab0936aed5"
   },
   "outputs": [
    {
     "name": "stdout",
     "output_type": "stream",
     "text": [
      "Topic 0:\n",
      "don just like know people think does good use time god ve thanks new make way want say right need\n",
      "Topic 1:\n",
      "windows thanks card drive dos file mail advance use files software pc thanks advance program hi scsi video disk window looking\n",
      "Topic 2:\n",
      "geb pitt edu gordon banks cadre dsl geb cadre dsl shameful surrender edu shameful dsl pitt surrender soon intellect geb chastity n3jxp skepticism skepticism chastity banks n3jxp n3jxp chastity intellect cadre shameful pitt\n",
      "Topic 3:\n",
      "god jesus does windows thanks bible faith christ christians christian believe know advance thanks advance file files church dos hi does know\n",
      "Topic 4:\n",
      "key chip encryption government clipper keys use public file law escrow people program algorithm clipper chip security information window nsa secure\n",
      "Topic 5:\n",
      "drive scsi key chip disk drives hard ide controller card hard drive floppy bus encryption clipper god government bit use keys\n",
      "Topic 6:\n",
      "thanks does mail know thanks advance advance does know email drive address chip info information interested key looking send anybody phone hi\n",
      "Topic 7:\n",
      "god 00 edu sale 10 key jesus new space games com game team shipping offer email 15 20 11 year\n",
      "Topic 8:\n",
      "key game chip god team does clipper games encryption keys know players season play hockey bit escrow does know win clipper chip\n",
      "Topic 9:\n",
      "israel drive game team scsi people israeli jews does armenian games government thanks players armenians hockey turkish play ide arab\n",
      "Topic 10:\n",
      "card video monitor does video card drivers cards bus vga driver israel color ati price 00 does know mode vlb sale memory\n",
      "Topic 11:\n",
      "car windows israel thanks new window does bike key drive dos god advance thanks advance israeli armenian jews cars miles keys\n",
      "Topic 12:\n",
      "does window space does know problem use motif israel display server know nasa widget application data time window manager sun using screen\n",
      "Topic 13:\n",
      "does know does know 00 don file space windows don know dos drive files car ftp does anybody new program nasa anybody anybody know\n",
      "Topic 14:\n",
      "window don 00 israel sale offer know edu shipping israeli don know motif condition jews want use window manager price asking best offer\n",
      "Topic 15:\n",
      "just edu israel com key file israeli jews ve ftp car bike scsi arab did jewish arabs know list said\n",
      "Topic 16:\n",
      "com car edu window gun scsi right law guns card people drivers does driver ftp drive cars government bus crime\n",
      "Topic 17:\n",
      "know armenian don armenians don know turkish window said key armenia turkey genocide chip scsi problem turks 00 did time jesus\n",
      "Topic 18:\n",
      "just like does people armenian scsi government turkish armenians msg new genocide motif sounds turkey game does know turks stuff mean\n",
      "Topic 19:\n",
      "window space windows scsi just think car 00 com new nasa thanks manager right dos window manager ide bus card list\n"
     ]
    }
   ],
   "source": [
    "mbnmf = MiniBatchNMF(\n",
    "    n_components=no_topics,\n",
    "    random_state=1,\n",
    "    batch_size=32,\n",
    "    init='nndsvd',\n",
    "    beta_loss=\"frobenius\",\n",
    "    alpha_W=0.00005,\n",
    "    alpha_H=0.00005,\n",
    "    l1_ratio=0.5,\n",
    ").fit(tfidf_matrix)\n",
    "\n",
    "display_topics(nmf, tfidf_feature_names, no_topics)"
   ]
  },
  {
   "cell_type": "code",
   "execution_count": 37,
   "id": "cb80c62e-6ace-4b41-bcb8-a69ae1076ea3",
   "metadata": {
    "executionInfo": {
     "elapsed": 6208,
     "status": "ok",
     "timestamp": 1692842715653,
     "user": {
      "displayName": "MARIANO AGUSTIN DOLHARE",
      "userId": "02083329923890892529"
     },
     "user_tz": 180
    },
    "id": "cb80c62e-6ace-4b41-bcb8-a69ae1076ea3"
   },
   "outputs": [],
   "source": [
    "TNG_topics_nmf = nmf.transform(tfidf_matrix)\n",
    "TNG_topics_lda = lda.transform(count_matrix)"
   ]
  },
  {
   "cell_type": "code",
   "execution_count": 38,
   "id": "7b47aca9-8fb3-47f7-b4ab-21743c0eb342",
   "metadata": {
    "executionInfo": {
     "elapsed": 18,
     "status": "ok",
     "timestamp": 1692842715654,
     "user": {
      "displayName": "MARIANO AGUSTIN DOLHARE",
      "userId": "02083329923890892529"
     },
     "user_tz": 180
    },
    "id": "7b47aca9-8fb3-47f7-b4ab-21743c0eb342"
   },
   "outputs": [],
   "source": [
    "count_docs=[]\n",
    "for i in range(20):\n",
    "    count_docs.append({label: 0 for label in train.target_names})\n",
    "for label,topic in zip(train.target,TNG_topics_nmf.argmax(axis=-1)):\n",
    "    count_docs[topic][train.target_names[label]] +=1"
   ]
  },
  {
   "cell_type": "code",
   "execution_count": 39,
   "id": "21ad5c30-924d-4d41-9848-ba712b12f77a",
   "metadata": {
    "colab": {
     "base_uri": "https://localhost:8080/"
    },
    "executionInfo": {
     "elapsed": 18,
     "status": "ok",
     "timestamp": 1692842715655,
     "user": {
      "displayName": "MARIANO AGUSTIN DOLHARE",
      "userId": "02083329923890892529"
     },
     "user_tz": 180
    },
    "id": "21ad5c30-924d-4d41-9848-ba712b12f77a",
    "outputId": "a80ba59a-9f66-4264-d034-a619902001fa"
   },
   "outputs": [
    {
     "data": {
      "text/plain": [
       "{'alt.atheism': 480,\n",
       " 'comp.graphics': 584,\n",
       " 'comp.os.ms-windows.misc': 591,\n",
       " 'comp.sys.ibm.pc.hardware': 590,\n",
       " 'comp.sys.mac.hardware': 578,\n",
       " 'comp.windows.x': 593,\n",
       " 'misc.forsale': 585,\n",
       " 'rec.autos': 594,\n",
       " 'rec.motorcycles': 598,\n",
       " 'rec.sport.baseball': 597,\n",
       " 'rec.sport.hockey': 600,\n",
       " 'sci.crypt': 595,\n",
       " 'sci.electronics': 591,\n",
       " 'sci.med': 594,\n",
       " 'sci.space': 593,\n",
       " 'soc.religion.christian': 599,\n",
       " 'talk.politics.guns': 546,\n",
       " 'talk.politics.mideast': 564,\n",
       " 'talk.politics.misc': 465,\n",
       " 'talk.religion.misc': 377}"
      ]
     },
     "execution_count": 39,
     "metadata": {},
     "output_type": "execute_result"
    }
   ],
   "source": [
    "count_docs[0]"
   ]
  },
  {
   "cell_type": "code",
   "execution_count": 40,
   "id": "671aabed-89b9-4765-b900-a1741a6ac0e8",
   "metadata": {
    "executionInfo": {
     "elapsed": 16,
     "status": "ok",
     "timestamp": 1692842715656,
     "user": {
      "displayName": "MARIANO AGUSTIN DOLHARE",
      "userId": "02083329923890892529"
     },
     "user_tz": 180
    },
    "id": "671aabed-89b9-4765-b900-a1741a6ac0e8"
   },
   "outputs": [],
   "source": [
    "neigh_nmf = NearestNeighbors(n_neighbors=20, metric=\"cosine\")"
   ]
  },
  {
   "cell_type": "code",
   "execution_count": 41,
   "id": "af72f035-398f-49d1-97dd-5c8df6c75ff7",
   "metadata": {
    "colab": {
     "base_uri": "https://localhost:8080/",
     "height": 74
    },
    "executionInfo": {
     "elapsed": 15,
     "status": "ok",
     "timestamp": 1692842715657,
     "user": {
      "displayName": "MARIANO AGUSTIN DOLHARE",
      "userId": "02083329923890892529"
     },
     "user_tz": 180
    },
    "id": "af72f035-398f-49d1-97dd-5c8df6c75ff7",
    "outputId": "9760a57d-2151-458e-8dd6-97034367cd27"
   },
   "outputs": [
    {
     "data": {
      "text/html": [
       "<style>#sk-container-id-2 {color: black;background-color: white;}#sk-container-id-2 pre{padding: 0;}#sk-container-id-2 div.sk-toggleable {background-color: white;}#sk-container-id-2 label.sk-toggleable__label {cursor: pointer;display: block;width: 100%;margin-bottom: 0;padding: 0.3em;box-sizing: border-box;text-align: center;}#sk-container-id-2 label.sk-toggleable__label-arrow:before {content: \"▸\";float: left;margin-right: 0.25em;color: #696969;}#sk-container-id-2 label.sk-toggleable__label-arrow:hover:before {color: black;}#sk-container-id-2 div.sk-estimator:hover label.sk-toggleable__label-arrow:before {color: black;}#sk-container-id-2 div.sk-toggleable__content {max-height: 0;max-width: 0;overflow: hidden;text-align: left;background-color: #f0f8ff;}#sk-container-id-2 div.sk-toggleable__content pre {margin: 0.2em;color: black;border-radius: 0.25em;background-color: #f0f8ff;}#sk-container-id-2 input.sk-toggleable__control:checked~div.sk-toggleable__content {max-height: 200px;max-width: 100%;overflow: auto;}#sk-container-id-2 input.sk-toggleable__control:checked~label.sk-toggleable__label-arrow:before {content: \"▾\";}#sk-container-id-2 div.sk-estimator input.sk-toggleable__control:checked~label.sk-toggleable__label {background-color: #d4ebff;}#sk-container-id-2 div.sk-label input.sk-toggleable__control:checked~label.sk-toggleable__label {background-color: #d4ebff;}#sk-container-id-2 input.sk-hidden--visually {border: 0;clip: rect(1px 1px 1px 1px);clip: rect(1px, 1px, 1px, 1px);height: 1px;margin: -1px;overflow: hidden;padding: 0;position: absolute;width: 1px;}#sk-container-id-2 div.sk-estimator {font-family: monospace;background-color: #f0f8ff;border: 1px dotted black;border-radius: 0.25em;box-sizing: border-box;margin-bottom: 0.5em;}#sk-container-id-2 div.sk-estimator:hover {background-color: #d4ebff;}#sk-container-id-2 div.sk-parallel-item::after {content: \"\";width: 100%;border-bottom: 1px solid gray;flex-grow: 1;}#sk-container-id-2 div.sk-label:hover label.sk-toggleable__label {background-color: #d4ebff;}#sk-container-id-2 div.sk-serial::before {content: \"\";position: absolute;border-left: 1px solid gray;box-sizing: border-box;top: 0;bottom: 0;left: 50%;z-index: 0;}#sk-container-id-2 div.sk-serial {display: flex;flex-direction: column;align-items: center;background-color: white;padding-right: 0.2em;padding-left: 0.2em;position: relative;}#sk-container-id-2 div.sk-item {position: relative;z-index: 1;}#sk-container-id-2 div.sk-parallel {display: flex;align-items: stretch;justify-content: center;background-color: white;position: relative;}#sk-container-id-2 div.sk-item::before, #sk-container-id-2 div.sk-parallel-item::before {content: \"\";position: absolute;border-left: 1px solid gray;box-sizing: border-box;top: 0;bottom: 0;left: 50%;z-index: -1;}#sk-container-id-2 div.sk-parallel-item {display: flex;flex-direction: column;z-index: 1;position: relative;background-color: white;}#sk-container-id-2 div.sk-parallel-item:first-child::after {align-self: flex-end;width: 50%;}#sk-container-id-2 div.sk-parallel-item:last-child::after {align-self: flex-start;width: 50%;}#sk-container-id-2 div.sk-parallel-item:only-child::after {width: 0;}#sk-container-id-2 div.sk-dashed-wrapped {border: 1px dashed gray;margin: 0 0.4em 0.5em 0.4em;box-sizing: border-box;padding-bottom: 0.4em;background-color: white;}#sk-container-id-2 div.sk-label label {font-family: monospace;font-weight: bold;display: inline-block;line-height: 1.2em;}#sk-container-id-2 div.sk-label-container {text-align: center;}#sk-container-id-2 div.sk-container {/* jupyter's `normalize.less` sets `[hidden] { display: none; }` but bootstrap.min.css set `[hidden] { display: none !important; }` so we also need the `!important` here to be able to override the default hidden behavior on the sphinx rendered scikit-learn.org. See: https://github.com/scikit-learn/scikit-learn/issues/21755 */display: inline-block !important;position: relative;}#sk-container-id-2 div.sk-text-repr-fallback {display: none;}</style><div id=\"sk-container-id-2\" class=\"sk-top-container\"><div class=\"sk-text-repr-fallback\"><pre>NearestNeighbors(metric=&#x27;cosine&#x27;, n_neighbors=20)</pre><b>In a Jupyter environment, please rerun this cell to show the HTML representation or trust the notebook. <br />On GitHub, the HTML representation is unable to render, please try loading this page with nbviewer.org.</b></div><div class=\"sk-container\" hidden><div class=\"sk-item\"><div class=\"sk-estimator sk-toggleable\"><input class=\"sk-toggleable__control sk-hidden--visually\" id=\"sk-estimator-id-2\" type=\"checkbox\" checked><label for=\"sk-estimator-id-2\" class=\"sk-toggleable__label sk-toggleable__label-arrow\">NearestNeighbors</label><div class=\"sk-toggleable__content\"><pre>NearestNeighbors(metric=&#x27;cosine&#x27;, n_neighbors=20)</pre></div></div></div></div></div>"
      ],
      "text/plain": [
       "NearestNeighbors(metric='cosine', n_neighbors=20)"
      ]
     },
     "execution_count": 41,
     "metadata": {},
     "output_type": "execute_result"
    }
   ],
   "source": [
    "neigh_nmf.fit(TNG_topics_nmf)"
   ]
  },
  {
   "cell_type": "code",
   "execution_count": 42,
   "id": "fa7dbbf1-9fcf-4f3c-9ba7-bd5c3663e721",
   "metadata": {
    "executionInfo": {
     "elapsed": 3000,
     "status": "ok",
     "timestamp": 1692842718645,
     "user": {
      "displayName": "MARIANO AGUSTIN DOLHARE",
      "userId": "02083329923890892529"
     },
     "user_tz": 180
    },
    "id": "fa7dbbf1-9fcf-4f3c-9ba7-bd5c3663e721"
   },
   "outputs": [],
   "source": [
    "tokenizer = Tokenizer(num_words=15000)\n",
    "tokenizer.fit_on_texts(train.data)"
   ]
  },
  {
   "cell_type": "code",
   "execution_count": 43,
   "id": "e63ca1bc-546d-4893-98ac-c919f0c10e92",
   "metadata": {
    "colab": {
     "base_uri": "https://localhost:8080/"
    },
    "executionInfo": {
     "elapsed": 18,
     "status": "ok",
     "timestamp": 1692842718648,
     "user": {
      "displayName": "MARIANO AGUSTIN DOLHARE",
      "userId": "02083329923890892529"
     },
     "user_tz": 180
    },
    "id": "e63ca1bc-546d-4893-98ac-c919f0c10e92",
    "outputId": "010ae53b-9058-4889-e26c-b8e95df6d8a6"
   },
   "outputs": [
    {
     "name": "stdout",
     "output_type": "stream",
     "text": [
      "scenes\n",
      "pentium\n",
      "denies\n",
      "illusion\n",
      "bone\n",
      "spine\n",
      "50mhz\n",
      "acs\n",
      "incomplete\n",
      "headaches\n",
      "airport\n",
      "slavery\n",
      "marijuana\n",
      "placebo\n",
      "polish\n",
      "governmental\n",
      "attacker\n",
      "moderate\n",
      "maintains\n",
      "gate\n"
     ]
    }
   ],
   "source": [
    "idx_1 = tokenizer.word_index[\"space\"]\n",
    "_, neig = neigh_nmf.kneighbors(TNG_topics_nmf[idx_1:idx_1+1])\n",
    "\n",
    "for n in neig[0]:\n",
    "    print(tokenizer.index_word[n])"
   ]
  },
  {
   "cell_type": "code",
   "execution_count": 46,
   "id": "Q2HzXC7JSOZm",
   "metadata": {
    "executionInfo": {
     "elapsed": 524,
     "status": "ok",
     "timestamp": 1692842864336,
     "user": {
      "displayName": "MARIANO AGUSTIN DOLHARE",
      "userId": "02083329923890892529"
     },
     "user_tz": 180
    },
    "id": "Q2HzXC7JSOZm"
   },
   "outputs": [],
   "source": [
    "idx_1 = tokenizer.word_index[\"master\"]\n",
    "idx_2 = tokenizer.word_index[\"engineer\"]\n",
    "idx_3 = tokenizer.word_index[\"student\"]"
   ]
  },
  {
   "cell_type": "code",
   "execution_count": 48,
   "id": "SxIAKMnKSPVN",
   "metadata": {
    "colab": {
     "base_uri": "https://localhost:8080/"
    },
    "executionInfo": {
     "elapsed": 396,
     "status": "ok",
     "timestamp": 1692842936024,
     "user": {
      "displayName": "MARIANO AGUSTIN DOLHARE",
      "userId": "02083329923890892529"
     },
     "user_tz": 180
    },
    "id": "SxIAKMnKSPVN",
    "outputId": "ce16cde3-6e1c-4070-c589-b2f592f8ea63"
   },
   "outputs": [
    {
     "name": "stdout",
     "output_type": "stream",
     "text": [
      "scenes\n",
      "pentium\n",
      "denies\n",
      "illusion\n",
      "bone\n",
      "spine\n",
      "50mhz\n",
      "acs\n",
      "incomplete\n",
      "headaches\n",
      "airport\n",
      "slavery\n",
      "marijuana\n",
      "placebo\n",
      "polish\n",
      "governmental\n",
      "attacker\n",
      "moderate\n",
      "maintains\n",
      "gate\n"
     ]
    }
   ],
   "source": [
    "vector = TNG_topics_nmf[idx_2]-TNG_topics_nmf[idx_1]+TNG_topics_nmf[idx_3]\n",
    "_, neig = neigh_nmf.kneighbors([vector])\n",
    "for n in neig[0]:\n",
    "    print(tokenizer.index_word[n])"
   ]
  },
  {
   "cell_type": "markdown",
   "id": "2e490336-a9a4-4c7d-b8cf-872f9124bfc8",
   "metadata": {
    "id": "2e490336-a9a4-4c7d-b8cf-872f9124bfc8"
   },
   "source": [
    "## Parte 5: Matriz Termino-Termino"
   ]
  },
  {
   "cell_type": "code",
   "execution_count": 85,
   "id": "52c6fae5-ea0e-4a3f-b532-2b7c95dbcc54",
   "metadata": {
    "executionInfo": {
     "elapsed": 2871,
     "status": "ok",
     "timestamp": 1692831962149,
     "user": {
      "displayName": "MARIANO AGUSTIN DOLHARE",
      "userId": "02083329923890892529"
     },
     "user_tz": 180
    },
    "id": "52c6fae5-ea0e-4a3f-b532-2b7c95dbcc54"
   },
   "outputs": [],
   "source": [
    "tokenizer = Tokenizer(num_words=5000)\n",
    "tokenizer.fit_on_texts(train.data)"
   ]
  },
  {
   "cell_type": "code",
   "execution_count": 86,
   "id": "f45d7307-9c3e-47d7-8e61-312183098d58",
   "metadata": {
    "colab": {
     "base_uri": "https://localhost:8080/"
    },
    "executionInfo": {
     "elapsed": 1224,
     "status": "ok",
     "timestamp": 1692831963361,
     "user": {
      "displayName": "MARIANO AGUSTIN DOLHARE",
      "userId": "02083329923890892529"
     },
     "user_tz": 180
    },
    "id": "f45d7307-9c3e-47d7-8e61-312183098d58",
    "outputId": "70f044d8-200a-42c4-d2b4-ddd3cf1622e6"
   },
   "outputs": [
    {
     "data": {
      "text/plain": [
       "array([   7,   26, 1383, ...,  181,   41, 4767])"
      ]
     },
     "execution_count": 86,
     "metadata": {},
     "output_type": "execute_result"
    }
   ],
   "source": [
    "seqs=tokenizer.texts_to_sequences(train.data)\n",
    "seqs=np.hstack(seqs)\n",
    "seqs=seqs.astype(int)\n",
    "seqs"
   ]
  },
  {
   "cell_type": "code",
   "execution_count": 87,
   "id": "110ff27a-d987-4955-8892-8617d236caf8",
   "metadata": {
    "colab": {
     "base_uri": "https://localhost:8080/"
    },
    "executionInfo": {
     "elapsed": 77900,
     "status": "ok",
     "timestamp": 1692832041258,
     "user": {
      "displayName": "MARIANO AGUSTIN DOLHARE",
      "userId": "02083329923890892529"
     },
     "user_tz": 180
    },
    "id": "110ff27a-d987-4955-8892-8617d236caf8",
    "outputId": "cf0267ac-96e2-42b6-82e7-13a8811d85d6"
   },
   "outputs": [
    {
     "name": "stdout",
     "output_type": "stream",
     "text": [
      "2932000"
     ]
    }
   ],
   "source": [
    "V = 5001    #ventana chica para evitar problemas de memoria ram al armar la matriz PPMI\n",
    "counts_matrix=lil_matrix((V-1, V-1))\n",
    "pairs, labels = skipgrams(sequence=list(seqs), vocabulary_size=V, window_size=5, negative_samples=0, sampling_table=make_sampling_table(V, sampling_factor=1), shuffle=False)\n",
    "pairs_u, counts = np.unique(pairs,return_counts=True, axis=0)\n",
    "for num,(pair,count) in enumerate(zip(pairs_u, counts)):\n",
    "    if num%1000 ==0:\n",
    "        print(f'\\r{num}', end=\"\")\n",
    "    counts_matrix[pair[0],pair[1]] += count"
   ]
  },
  {
   "cell_type": "code",
   "execution_count": 88,
   "id": "19ed563f-bc4d-4f67-96c0-e176cf45d451",
   "metadata": {
    "colab": {
     "base_uri": "https://localhost:8080/"
    },
    "executionInfo": {
     "elapsed": 31,
     "status": "ok",
     "timestamp": 1692832041259,
     "user": {
      "displayName": "MARIANO AGUSTIN DOLHARE",
      "userId": "02083329923890892529"
     },
     "user_tz": 180
    },
    "id": "19ed563f-bc4d-4f67-96c0-e176cf45d451",
    "outputId": "4c3f59b6-1c8b-47ec-aed9-478d4ea68b5e"
   },
   "outputs": [
    {
     "name": "stdout",
     "output_type": "stream",
     "text": [
      "  (1, 1)\t60865.0\n",
      "  (1, 3)\t31845.0\n",
      "  (1, 4)\t45114.0\n",
      "  (1, 5)\t17608.0\n",
      "  (1, 6)\t27569.0\n",
      "  (1, 7)\t13284.0\n",
      "  (1, 8)\t23722.0\n",
      "  (1, 9)\t20657.0\n",
      "  (2, 2)\t502554.0\n",
      "  (2, 4)\t22.0\n",
      "  (2, 5)\t444.0\n",
      "  (2, 6)\t2.0\n",
      "  (2, 7)\t386.0\n",
      "  (2, 8)\t8.0\n",
      "  (3, 1)\t31943.0\n",
      "  (3, 3)\t12320.0\n",
      "  (3, 4)\t10594.0\n",
      "  (3, 5)\t12475.0\n",
      "  (3, 6)\t11979.0\n",
      "  (3, 7)\t8836.0\n",
      "  (3, 8)\t7277.0\n",
      "  (3, 9)\t8518.0\n",
      "  (4, 1)\t45243.0\n",
      "  (4, 2)\t22.0\n",
      "  (4, 3)\t10594.0\n",
      "  (4, 4)\t11370.0\n",
      "  (4, 5)\t13610.0\n",
      "  (4, 6)\t11659.0\n",
      "  (4, 7)\t5125.0\n",
      "  (4, 8)\t8568.0\n",
      "  (4, 9)\t7841.0\n",
      "  (5, 1)\t17664.0\n",
      "  (5, 2)\t444.0\n",
      "  (5, 3)\t12475.0\n",
      "  (5, 4)\t13610.0\n",
      "  (5, 5)\t10786.0\n",
      "  (5, 6)\t9762.0\n",
      "  (5, 7)\t7708.0\n",
      "  (5, 8)\t7806.0\n",
      "  (5, 9)\t9461.0\n",
      "  (6, 1)\t27644.0\n",
      "  (6, 2)\t2.0\n",
      "  (6, 3)\t11979.0\n",
      "  (6, 4)\t11659.0\n",
      "  (6, 5)\t9762.0\n",
      "  (6, 6)\t8214.0\n",
      "  (6, 7)\t5822.0\n",
      "  (6, 8)\t7542.0\n",
      "  (6, 9)\t6073.0\n",
      "  (7, 1)\t13324.0\n",
      "  (7, 2)\t386.0\n",
      "  (7, 3)\t8836.0\n",
      "  (7, 4)\t5125.0\n",
      "  (7, 5)\t7708.0\n",
      "  (7, 6)\t5822.0\n",
      "  (7, 7)\t6454.0\n",
      "  (7, 8)\t4118.0\n",
      "  (7, 9)\t3539.0\n",
      "  (8, 1)\t23792.0\n",
      "  (8, 2)\t8.0\n",
      "  (8, 3)\t7277.0\n",
      "  (8, 4)\t8568.0\n",
      "  (8, 5)\t7806.0\n",
      "  (8, 6)\t7542.0\n",
      "  (8, 7)\t4118.0\n",
      "  (8, 8)\t4164.0\n",
      "  (8, 9)\t4992.0\n",
      "  (9, 1)\t20723.0\n",
      "  (9, 3)\t8518.0\n",
      "  (9, 4)\t7841.0\n",
      "  (9, 5)\t9461.0\n",
      "  (9, 6)\t6073.0\n",
      "  (9, 7)\t3539.0\n",
      "  (9, 8)\t4992.0\n",
      "  (9, 9)\t4540.0\n"
     ]
    }
   ],
   "source": [
    "print(counts_matrix[0:10,0:10])"
   ]
  },
  {
   "cell_type": "code",
   "execution_count": 89,
   "id": "7bd82c4c-be9d-4a81-be28-5d7fa29d06ea",
   "metadata": {
    "colab": {
     "base_uri": "https://localhost:8080/"
    },
    "executionInfo": {
     "elapsed": 19235,
     "status": "ok",
     "timestamp": 1692832060484,
     "user": {
      "displayName": "MARIANO AGUSTIN DOLHARE",
      "userId": "02083329923890892529"
     },
     "user_tz": 180
    },
    "id": "7bd82c4c-be9d-4a81-be28-5d7fa29d06ea",
    "outputId": "6113de27-0337-4cb0-8ff1-f0cea2a96373"
   },
   "outputs": [
    {
     "data": {
      "text/plain": [
       "(5000, 500)"
      ]
     },
     "execution_count": 89,
     "metadata": {},
     "output_type": "execute_result"
    }
   ],
   "source": [
    "red = TruncatedSVD(n_components=500)\n",
    "TNG_cv_red = red.fit_transform(counts_matrix)\n",
    "TNG_cv_red.shape"
   ]
  },
  {
   "cell_type": "code",
   "execution_count": 90,
   "id": "35e873fa-997e-48f0-8c34-fd1fdb32fb02",
   "metadata": {
    "colab": {
     "base_uri": "https://localhost:8080/",
     "height": 74
    },
    "executionInfo": {
     "elapsed": 47,
     "status": "ok",
     "timestamp": 1692832060486,
     "user": {
      "displayName": "MARIANO AGUSTIN DOLHARE",
      "userId": "02083329923890892529"
     },
     "user_tz": 180
    },
    "id": "35e873fa-997e-48f0-8c34-fd1fdb32fb02",
    "outputId": "065092c5-80cd-410f-ce46-2f395585a9b1"
   },
   "outputs": [
    {
     "data": {
      "text/html": [
       "<style>#sk-container-id-4 {color: black;background-color: white;}#sk-container-id-4 pre{padding: 0;}#sk-container-id-4 div.sk-toggleable {background-color: white;}#sk-container-id-4 label.sk-toggleable__label {cursor: pointer;display: block;width: 100%;margin-bottom: 0;padding: 0.3em;box-sizing: border-box;text-align: center;}#sk-container-id-4 label.sk-toggleable__label-arrow:before {content: \"▸\";float: left;margin-right: 0.25em;color: #696969;}#sk-container-id-4 label.sk-toggleable__label-arrow:hover:before {color: black;}#sk-container-id-4 div.sk-estimator:hover label.sk-toggleable__label-arrow:before {color: black;}#sk-container-id-4 div.sk-toggleable__content {max-height: 0;max-width: 0;overflow: hidden;text-align: left;background-color: #f0f8ff;}#sk-container-id-4 div.sk-toggleable__content pre {margin: 0.2em;color: black;border-radius: 0.25em;background-color: #f0f8ff;}#sk-container-id-4 input.sk-toggleable__control:checked~div.sk-toggleable__content {max-height: 200px;max-width: 100%;overflow: auto;}#sk-container-id-4 input.sk-toggleable__control:checked~label.sk-toggleable__label-arrow:before {content: \"▾\";}#sk-container-id-4 div.sk-estimator input.sk-toggleable__control:checked~label.sk-toggleable__label {background-color: #d4ebff;}#sk-container-id-4 div.sk-label input.sk-toggleable__control:checked~label.sk-toggleable__label {background-color: #d4ebff;}#sk-container-id-4 input.sk-hidden--visually {border: 0;clip: rect(1px 1px 1px 1px);clip: rect(1px, 1px, 1px, 1px);height: 1px;margin: -1px;overflow: hidden;padding: 0;position: absolute;width: 1px;}#sk-container-id-4 div.sk-estimator {font-family: monospace;background-color: #f0f8ff;border: 1px dotted black;border-radius: 0.25em;box-sizing: border-box;margin-bottom: 0.5em;}#sk-container-id-4 div.sk-estimator:hover {background-color: #d4ebff;}#sk-container-id-4 div.sk-parallel-item::after {content: \"\";width: 100%;border-bottom: 1px solid gray;flex-grow: 1;}#sk-container-id-4 div.sk-label:hover label.sk-toggleable__label {background-color: #d4ebff;}#sk-container-id-4 div.sk-serial::before {content: \"\";position: absolute;border-left: 1px solid gray;box-sizing: border-box;top: 0;bottom: 0;left: 50%;z-index: 0;}#sk-container-id-4 div.sk-serial {display: flex;flex-direction: column;align-items: center;background-color: white;padding-right: 0.2em;padding-left: 0.2em;position: relative;}#sk-container-id-4 div.sk-item {position: relative;z-index: 1;}#sk-container-id-4 div.sk-parallel {display: flex;align-items: stretch;justify-content: center;background-color: white;position: relative;}#sk-container-id-4 div.sk-item::before, #sk-container-id-4 div.sk-parallel-item::before {content: \"\";position: absolute;border-left: 1px solid gray;box-sizing: border-box;top: 0;bottom: 0;left: 50%;z-index: -1;}#sk-container-id-4 div.sk-parallel-item {display: flex;flex-direction: column;z-index: 1;position: relative;background-color: white;}#sk-container-id-4 div.sk-parallel-item:first-child::after {align-self: flex-end;width: 50%;}#sk-container-id-4 div.sk-parallel-item:last-child::after {align-self: flex-start;width: 50%;}#sk-container-id-4 div.sk-parallel-item:only-child::after {width: 0;}#sk-container-id-4 div.sk-dashed-wrapped {border: 1px dashed gray;margin: 0 0.4em 0.5em 0.4em;box-sizing: border-box;padding-bottom: 0.4em;background-color: white;}#sk-container-id-4 div.sk-label label {font-family: monospace;font-weight: bold;display: inline-block;line-height: 1.2em;}#sk-container-id-4 div.sk-label-container {text-align: center;}#sk-container-id-4 div.sk-container {/* jupyter's `normalize.less` sets `[hidden] { display: none; }` but bootstrap.min.css set `[hidden] { display: none !important; }` so we also need the `!important` here to be able to override the default hidden behavior on the sphinx rendered scikit-learn.org. See: https://github.com/scikit-learn/scikit-learn/issues/21755 */display: inline-block !important;position: relative;}#sk-container-id-4 div.sk-text-repr-fallback {display: none;}</style><div id=\"sk-container-id-4\" class=\"sk-top-container\"><div class=\"sk-text-repr-fallback\"><pre>NearestNeighbors(metric=&#x27;cosine&#x27;, n_neighbors=20)</pre><b>In a Jupyter environment, please rerun this cell to show the HTML representation or trust the notebook. <br />On GitHub, the HTML representation is unable to render, please try loading this page with nbviewer.org.</b></div><div class=\"sk-container\" hidden><div class=\"sk-item\"><div class=\"sk-estimator sk-toggleable\"><input class=\"sk-toggleable__control sk-hidden--visually\" id=\"sk-estimator-id-4\" type=\"checkbox\" checked><label for=\"sk-estimator-id-4\" class=\"sk-toggleable__label sk-toggleable__label-arrow\">NearestNeighbors</label><div class=\"sk-toggleable__content\"><pre>NearestNeighbors(metric=&#x27;cosine&#x27;, n_neighbors=20)</pre></div></div></div></div></div>"
      ],
      "text/plain": [
       "NearestNeighbors(metric='cosine', n_neighbors=20)"
      ]
     },
     "execution_count": 90,
     "metadata": {},
     "output_type": "execute_result"
    }
   ],
   "source": [
    "neigh = NearestNeighbors(n_neighbors=20, metric=\"cosine\")\n",
    "neigh.fit(counts_matrix)"
   ]
  },
  {
   "cell_type": "code",
   "execution_count": 91,
   "id": "dbe8caea-74b7-4767-a865-9ee31d2f006f",
   "metadata": {
    "colab": {
     "base_uri": "https://localhost:8080/"
    },
    "executionInfo": {
     "elapsed": 35,
     "status": "ok",
     "timestamp": 1692832060487,
     "user": {
      "displayName": "MARIANO AGUSTIN DOLHARE",
      "userId": "02083329923890892529"
     },
     "user_tz": 180
    },
    "id": "dbe8caea-74b7-4767-a865-9ee31d2f006f",
    "outputId": "6865f3a4-7645-42f6-dbc0-4c55424e47bd"
   },
   "outputs": [
    {
     "name": "stdout",
     "output_type": "stream",
     "text": [
      "friends\n",
      "parents\n",
      "personal\n",
      "mother\n",
      "own\n",
      "others\n",
      "them\n",
      "experience\n",
      "wife\n",
      "some\n",
      "opinion\n",
      "life\n",
      "opinions\n",
      "faith\n",
      "knowledge\n",
      "a\n",
      "every\n",
      "all\n",
      "home\n",
      "brothers\n"
     ]
    }
   ],
   "source": [
    "idx_1 = tokenizer.word_index[\"friends\"]\n",
    "_, neig = neigh.kneighbors(counts_matrix[idx_1:idx_1+1])\n",
    "\n",
    "for n in neig[0]:\n",
    "    print(tokenizer.index_word[n])"
   ]
  },
  {
   "cell_type": "code",
   "execution_count": 92,
   "id": "bcfa799c-fdfa-4c9d-8903-4f3c1eb59568",
   "metadata": {
    "colab": {
     "base_uri": "https://localhost:8080/",
     "height": 74
    },
    "executionInfo": {
     "elapsed": 366,
     "status": "ok",
     "timestamp": 1692832060832,
     "user": {
      "displayName": "MARIANO AGUSTIN DOLHARE",
      "userId": "02083329923890892529"
     },
     "user_tz": 180
    },
    "id": "bcfa799c-fdfa-4c9d-8903-4f3c1eb59568",
    "outputId": "e5eee04e-b72e-4bfd-db01-b141d126b5c6"
   },
   "outputs": [
    {
     "data": {
      "text/html": [
       "<style>#sk-container-id-5 {color: black;background-color: white;}#sk-container-id-5 pre{padding: 0;}#sk-container-id-5 div.sk-toggleable {background-color: white;}#sk-container-id-5 label.sk-toggleable__label {cursor: pointer;display: block;width: 100%;margin-bottom: 0;padding: 0.3em;box-sizing: border-box;text-align: center;}#sk-container-id-5 label.sk-toggleable__label-arrow:before {content: \"▸\";float: left;margin-right: 0.25em;color: #696969;}#sk-container-id-5 label.sk-toggleable__label-arrow:hover:before {color: black;}#sk-container-id-5 div.sk-estimator:hover label.sk-toggleable__label-arrow:before {color: black;}#sk-container-id-5 div.sk-toggleable__content {max-height: 0;max-width: 0;overflow: hidden;text-align: left;background-color: #f0f8ff;}#sk-container-id-5 div.sk-toggleable__content pre {margin: 0.2em;color: black;border-radius: 0.25em;background-color: #f0f8ff;}#sk-container-id-5 input.sk-toggleable__control:checked~div.sk-toggleable__content {max-height: 200px;max-width: 100%;overflow: auto;}#sk-container-id-5 input.sk-toggleable__control:checked~label.sk-toggleable__label-arrow:before {content: \"▾\";}#sk-container-id-5 div.sk-estimator input.sk-toggleable__control:checked~label.sk-toggleable__label {background-color: #d4ebff;}#sk-container-id-5 div.sk-label input.sk-toggleable__control:checked~label.sk-toggleable__label {background-color: #d4ebff;}#sk-container-id-5 input.sk-hidden--visually {border: 0;clip: rect(1px 1px 1px 1px);clip: rect(1px, 1px, 1px, 1px);height: 1px;margin: -1px;overflow: hidden;padding: 0;position: absolute;width: 1px;}#sk-container-id-5 div.sk-estimator {font-family: monospace;background-color: #f0f8ff;border: 1px dotted black;border-radius: 0.25em;box-sizing: border-box;margin-bottom: 0.5em;}#sk-container-id-5 div.sk-estimator:hover {background-color: #d4ebff;}#sk-container-id-5 div.sk-parallel-item::after {content: \"\";width: 100%;border-bottom: 1px solid gray;flex-grow: 1;}#sk-container-id-5 div.sk-label:hover label.sk-toggleable__label {background-color: #d4ebff;}#sk-container-id-5 div.sk-serial::before {content: \"\";position: absolute;border-left: 1px solid gray;box-sizing: border-box;top: 0;bottom: 0;left: 50%;z-index: 0;}#sk-container-id-5 div.sk-serial {display: flex;flex-direction: column;align-items: center;background-color: white;padding-right: 0.2em;padding-left: 0.2em;position: relative;}#sk-container-id-5 div.sk-item {position: relative;z-index: 1;}#sk-container-id-5 div.sk-parallel {display: flex;align-items: stretch;justify-content: center;background-color: white;position: relative;}#sk-container-id-5 div.sk-item::before, #sk-container-id-5 div.sk-parallel-item::before {content: \"\";position: absolute;border-left: 1px solid gray;box-sizing: border-box;top: 0;bottom: 0;left: 50%;z-index: -1;}#sk-container-id-5 div.sk-parallel-item {display: flex;flex-direction: column;z-index: 1;position: relative;background-color: white;}#sk-container-id-5 div.sk-parallel-item:first-child::after {align-self: flex-end;width: 50%;}#sk-container-id-5 div.sk-parallel-item:last-child::after {align-self: flex-start;width: 50%;}#sk-container-id-5 div.sk-parallel-item:only-child::after {width: 0;}#sk-container-id-5 div.sk-dashed-wrapped {border: 1px dashed gray;margin: 0 0.4em 0.5em 0.4em;box-sizing: border-box;padding-bottom: 0.4em;background-color: white;}#sk-container-id-5 div.sk-label label {font-family: monospace;font-weight: bold;display: inline-block;line-height: 1.2em;}#sk-container-id-5 div.sk-label-container {text-align: center;}#sk-container-id-5 div.sk-container {/* jupyter's `normalize.less` sets `[hidden] { display: none; }` but bootstrap.min.css set `[hidden] { display: none !important; }` so we also need the `!important` here to be able to override the default hidden behavior on the sphinx rendered scikit-learn.org. See: https://github.com/scikit-learn/scikit-learn/issues/21755 */display: inline-block !important;position: relative;}#sk-container-id-5 div.sk-text-repr-fallback {display: none;}</style><div id=\"sk-container-id-5\" class=\"sk-top-container\"><div class=\"sk-text-repr-fallback\"><pre>NearestNeighbors(metric=&#x27;cosine&#x27;, n_neighbors=20)</pre><b>In a Jupyter environment, please rerun this cell to show the HTML representation or trust the notebook. <br />On GitHub, the HTML representation is unable to render, please try loading this page with nbviewer.org.</b></div><div class=\"sk-container\" hidden><div class=\"sk-item\"><div class=\"sk-estimator sk-toggleable\"><input class=\"sk-toggleable__control sk-hidden--visually\" id=\"sk-estimator-id-5\" type=\"checkbox\" checked><label for=\"sk-estimator-id-5\" class=\"sk-toggleable__label sk-toggleable__label-arrow\">NearestNeighbors</label><div class=\"sk-toggleable__content\"><pre>NearestNeighbors(metric=&#x27;cosine&#x27;, n_neighbors=20)</pre></div></div></div></div></div>"
      ],
      "text/plain": [
       "NearestNeighbors(metric='cosine', n_neighbors=20)"
      ]
     },
     "execution_count": 92,
     "metadata": {},
     "output_type": "execute_result"
    }
   ],
   "source": [
    "neigh = NearestNeighbors(n_neighbors=20, metric=\"cosine\")\n",
    "neigh.fit(TNG_cv_red)"
   ]
  },
  {
   "cell_type": "code",
   "execution_count": 93,
   "id": "47de6b99-201c-42c2-aaee-70d0f0c6c0be",
   "metadata": {
    "colab": {
     "base_uri": "https://localhost:8080/"
    },
    "executionInfo": {
     "elapsed": 16,
     "status": "ok",
     "timestamp": 1692832060834,
     "user": {
      "displayName": "MARIANO AGUSTIN DOLHARE",
      "userId": "02083329923890892529"
     },
     "user_tz": 180
    },
    "id": "47de6b99-201c-42c2-aaee-70d0f0c6c0be",
    "outputId": "b36baeec-6101-4bd3-c51a-7bbd2b5cc0f3"
   },
   "outputs": [
    {
     "name": "stdout",
     "output_type": "stream",
     "text": [
      "friends\n",
      "parents\n",
      "personal\n",
      "mother\n",
      "wife\n",
      "brothers\n",
      "opinions\n",
      "brother\n",
      "experience\n",
      "others\n",
      "philosophy\n",
      "own\n",
      "opinion\n",
      "fellow\n",
      "faith\n",
      "views\n",
      "beliefs\n",
      "them\n",
      "life\n",
      "neighbor\n"
     ]
    }
   ],
   "source": [
    "idx_1 = tokenizer.word_index[\"friends\"]\n",
    "_, neig = neigh.kneighbors(TNG_cv_red[idx_1:idx_1+1])\n",
    "\n",
    "for n in neig[0]:\n",
    "    print(tokenizer.index_word[n])"
   ]
  },
  {
   "cell_type": "markdown",
   "id": "8755aee9-651a-48e8-8646-f0d2ad0ae81c",
   "metadata": {
    "id": "8755aee9-651a-48e8-8646-f0d2ad0ae81c"
   },
   "source": [
    "## Parte 6: Matriz PMI"
   ]
  },
  {
   "cell_type": "code",
   "execution_count": 45,
   "id": "c22e82d6-b112-4a88-bff2-bba74d15d37f",
   "metadata": {
    "colab": {
     "base_uri": "https://localhost:8080/",
     "height": 262
    },
    "executionInfo": {
     "elapsed": 27,
     "status": "error",
     "timestamp": 1692842720091,
     "user": {
      "displayName": "MARIANO AGUSTIN DOLHARE",
      "userId": "02083329923890892529"
     },
     "user_tz": 180
    },
    "id": "c22e82d6-b112-4a88-bff2-bba74d15d37f",
    "outputId": "f14a8817-8b2b-4f9f-a252-cea48b02b6c3"
   },
   "outputs": [
    {
     "ename": "NameError",
     "evalue": "ignored",
     "output_type": "error",
     "traceback": [
      "\u001b[0;31m---------------------------------------------------------------------------\u001b[0m",
      "\u001b[0;31mNameError\u001b[0m                                 Traceback (most recent call last)",
      "\u001b[0;32m<ipython-input-45-48e2594be4a1>\u001b[0m in \u001b[0;36m<cell line: 3>\u001b[0;34m()\u001b[0m\n\u001b[1;32m      1\u001b[0m \u001b[0;32mfrom\u001b[0m \u001b[0msklearn\u001b[0m\u001b[0;34m.\u001b[0m\u001b[0mpreprocessing\u001b[0m \u001b[0;32mimport\u001b[0m \u001b[0mnormalize\u001b[0m\u001b[0;34m\u001b[0m\u001b[0;34m\u001b[0m\u001b[0m\n\u001b[1;32m      2\u001b[0m \u001b[0;34m\u001b[0m\u001b[0m\n\u001b[0;32m----> 3\u001b[0;31m \u001b[0mtf_matrix\u001b[0m \u001b[0;34m=\u001b[0m \u001b[0mcounts_matrix\u001b[0m\u001b[0;34m.\u001b[0m\u001b[0mtoarray\u001b[0m\u001b[0;34m(\u001b[0m\u001b[0;34m)\u001b[0m\u001b[0;34m\u001b[0m\u001b[0;34m\u001b[0m\u001b[0m\n\u001b[0m\u001b[1;32m      4\u001b[0m \u001b[0;34m\u001b[0m\u001b[0m\n\u001b[1;32m      5\u001b[0m \u001b[0mdf_vector\u001b[0m \u001b[0;34m=\u001b[0m \u001b[0mnp\u001b[0m\u001b[0;34m.\u001b[0m\u001b[0msum\u001b[0m\u001b[0;34m(\u001b[0m\u001b[0mcounts_matrix\u001b[0m \u001b[0;34m>\u001b[0m \u001b[0;36m0\u001b[0m\u001b[0;34m,\u001b[0m \u001b[0maxis\u001b[0m\u001b[0;34m=\u001b[0m\u001b[0;36m1\u001b[0m\u001b[0;34m)\u001b[0m\u001b[0;34m\u001b[0m\u001b[0;34m\u001b[0m\u001b[0m\n",
      "\u001b[0;31mNameError\u001b[0m: name 'counts_matrix' is not defined"
     ]
    }
   ],
   "source": [
    "\n",
    "\n",
    "tf_matrix = counts_matrix.toarray()\n",
    "\n",
    "df_vector = np.sum(counts_matrix > 0, axis=1)\n",
    "\n",
    "N = counts_matrix.shape[0]\n",
    "\n",
    "idf_vector = np.log(N / (df_vector + 1))\n",
    "\n",
    "print(np.diag(idf_vector))\n",
    "print(tf_matrix.shape)"
   ]
  },
  {
   "cell_type": "code",
   "execution_count": 95,
   "id": "c7e49216-d388-407b-8282-971720d0435e",
   "metadata": {
    "executionInfo": {
     "elapsed": 16,
     "status": "ok",
     "timestamp": 1692832062607,
     "user": {
      "displayName": "MARIANO AGUSTIN DOLHARE",
      "userId": "02083329923890892529"
     },
     "user_tz": 180
    },
    "id": "c7e49216-d388-407b-8282-971720d0435e"
   },
   "outputs": [],
   "source": [
    "tfidf_matrix = tf_matrix * np.diag(idf_vector)[0]"
   ]
  },
  {
   "cell_type": "code",
   "execution_count": 96,
   "id": "fb953ebc-b556-4025-88cf-c484e0f47475",
   "metadata": {
    "executionInfo": {
     "elapsed": 240,
     "status": "ok",
     "timestamp": 1692832062834,
     "user": {
      "displayName": "MARIANO AGUSTIN DOLHARE",
      "userId": "02083329923890892529"
     },
     "user_tz": 180
    },
    "id": "fb953ebc-b556-4025-88cf-c484e0f47475"
   },
   "outputs": [],
   "source": [
    "total_co_occurrences = np.sum(counts_matrix)\n",
    "pij_matrix = counts_matrix / total_co_occurrences"
   ]
  },
  {
   "cell_type": "code",
   "execution_count": 97,
   "id": "532818ac-4a57-46f3-ad28-f1cf861a18ef",
   "metadata": {
    "executionInfo": {
     "elapsed": 900,
     "status": "ok",
     "timestamp": 1692832063727,
     "user": {
      "displayName": "MARIANO AGUSTIN DOLHARE",
      "userId": "02083329923890892529"
     },
     "user_tz": 180
    },
    "id": "532818ac-4a57-46f3-ad28-f1cf861a18ef"
   },
   "outputs": [],
   "source": [
    "pi_vector = np.sum(counts_matrix, axis=1) / total_co_occurrences\n",
    "pj_vector = np.sum(counts_matrix, axis=0) / total_co_occurrences"
   ]
  },
  {
   "cell_type": "code",
   "execution_count": 98,
   "id": "00e7a84d-4468-4ff8-aa63-854b105695f9",
   "metadata": {
    "colab": {
     "base_uri": "https://localhost:8080/"
    },
    "executionInfo": {
     "elapsed": 5044,
     "status": "ok",
     "timestamp": 1692832068760,
     "user": {
      "displayName": "MARIANO AGUSTIN DOLHARE",
      "userId": "02083329923890892529"
     },
     "user_tz": 180
    },
    "id": "00e7a84d-4468-4ff8-aa63-854b105695f9",
    "outputId": "d9d8bdbe-f44b-4b61-9a23-288a26bc48f5"
   },
   "outputs": [
    {
     "data": {
      "text/plain": [
       "array([[1.00000000e-08, 1.00000000e-08, 1.00000000e-08, ...,\n",
       "        1.00000000e-08, 1.00000000e-08, 1.00000000e-08],\n",
       "       [1.00000000e-08, 2.75524307e-03, 1.60301068e-03, ...,\n",
       "        1.06164792e-06, 1.06164792e-06, 1.06164792e-06],\n",
       "       [1.00000000e-08, 1.60769907e-03, 9.35365309e-04, ...,\n",
       "        6.19477242e-07, 6.19477242e-07, 6.19477242e-07],\n",
       "       ...,\n",
       "       [1.00000000e-08, 1.06475297e-06, 6.19477242e-07, ...,\n",
       "        4.10269710e-10, 4.10269710e-10, 4.10269710e-10],\n",
       "       [1.00000000e-08, 1.06475297e-06, 6.19477242e-07, ...,\n",
       "        4.10269710e-10, 4.10269710e-10, 4.10269710e-10],\n",
       "       [1.00000000e-08, 1.06475297e-06, 6.19477242e-07, ...,\n",
       "        4.10269710e-10, 4.10269710e-10, 4.10269710e-10]])"
      ]
     },
     "execution_count": 98,
     "metadata": {},
     "output_type": "execute_result"
    }
   ],
   "source": [
    "a = np.outer(pi_vector, pj_vector)\n",
    "\n",
    "for i in a:\n",
    "    for j in range(len(i)):\n",
    "        if i[j] == 0:\n",
    "            i[j] += 1e-8\n",
    "\n",
    "a"
   ]
  },
  {
   "cell_type": "code",
   "execution_count": 99,
   "id": "67971db7-1117-4109-9103-922b4f555a01",
   "metadata": {
    "colab": {
     "base_uri": "https://localhost:8080/"
    },
    "executionInfo": {
     "elapsed": 780,
     "status": "ok",
     "timestamp": 1692832069517,
     "user": {
      "displayName": "MARIANO AGUSTIN DOLHARE",
      "userId": "02083329923890892529"
     },
     "user_tz": 180
    },
    "id": "67971db7-1117-4109-9103-922b4f555a01",
    "outputId": "58516203-f4a2-40a8-9470-c409f1d1e1fc"
   },
   "outputs": [
    {
     "data": {
      "text/plain": [
       "matrix([[1.00000000e-08, 1.00000000e-08, 1.00000000e-08, ...,\n",
       "         1.00000000e-08, 1.00000000e-08, 1.00000000e-08],\n",
       "        [1.00000000e-08, 5.45668121e+03, 1.00000000e-08, ...,\n",
       "         6.98009952e+02, 4.65339968e+03, 2.32669984e+02],\n",
       "        [1.00000000e-08, 1.00000000e-08, 1.32715715e+05, ...,\n",
       "         1.00000000e-08, 1.00000000e-08, 1.00000000e-08],\n",
       "        ...,\n",
       "        [1.00000000e-08, 6.95974410e+02, 1.00000000e-08, ...,\n",
       "         2.40830458e+06, 1.00000000e-08, 1.00000000e-08],\n",
       "        [1.00000000e-08, 4.63982940e+03, 1.00000000e-08, ...,\n",
       "         1.00000000e-08, 1.00000000e-08, 1.00000000e-08],\n",
       "        [1.00000000e-08, 2.31991470e+02, 1.00000000e-08, ...,\n",
       "         1.00000000e-08, 1.00000000e-08, 1.32456752e+07]])"
      ]
     },
     "execution_count": 99,
     "metadata": {},
     "output_type": "execute_result"
    }
   ],
   "source": [
    "pmi = (pij_matrix * N) / a\n",
    "\n",
    "for i in pmi:\n",
    "    for j in range(len(i)):\n",
    "        if i[j, 0] == 0:\n",
    "            i[j] += 1e-8\n",
    "pmi"
   ]
  },
  {
   "cell_type": "code",
   "execution_count": 100,
   "id": "100e6b58-637e-41eb-a7f3-2161c6e4e0e5",
   "metadata": {
    "executionInfo": {
     "elapsed": 406,
     "status": "ok",
     "timestamp": 1692832069910,
     "user": {
      "displayName": "MARIANO AGUSTIN DOLHARE",
      "userId": "02083329923890892529"
     },
     "user_tz": 180
    },
    "id": "100e6b58-637e-41eb-a7f3-2161c6e4e0e5"
   },
   "outputs": [],
   "source": [
    "ppmi_matrix = np.maximum(0, np.log(pmi))"
   ]
  },
  {
   "cell_type": "code",
   "execution_count": 101,
   "id": "272a9b77-9eb9-4288-becd-0d6345915b0c",
   "metadata": {
    "executionInfo": {
     "elapsed": 489,
     "status": "ok",
     "timestamp": 1692832070396,
     "user": {
      "displayName": "MARIANO AGUSTIN DOLHARE",
      "userId": "02083329923890892529"
     },
     "user_tz": 180
    },
    "id": "272a9b77-9eb9-4288-becd-0d6345915b0c"
   },
   "outputs": [],
   "source": [
    "ppmi_matrix = normalize(np.asarray(ppmi_matrix), norm='l2', axis=1)"
   ]
  },
  {
   "cell_type": "code",
   "execution_count": 102,
   "id": "aUQoofR4j4Gc",
   "metadata": {
    "colab": {
     "base_uri": "https://localhost:8080/"
    },
    "executionInfo": {
     "elapsed": 22,
     "status": "ok",
     "timestamp": 1692832070398,
     "user": {
      "displayName": "MARIANO AGUSTIN DOLHARE",
      "userId": "02083329923890892529"
     },
     "user_tz": 180
    },
    "id": "aUQoofR4j4Gc",
    "outputId": "6425882a-7185-48ef-80ca-a379194a785b"
   },
   "outputs": [
    {
     "data": {
      "text/plain": [
       "array([[0.        , 0.        , 0.        , ..., 0.        , 0.        ,\n",
       "        0.        ],\n",
       "       [0.        , 0.01460424, 0.        , ..., 0.01111406, 0.01433397,\n",
       "        0.00924943],\n",
       "       [0.        , 0.        , 0.0697558 , ..., 0.        , 0.        ,\n",
       "        0.        ],\n",
       "       ...,\n",
       "       [0.        , 0.05412447, 0.        , ..., 0.12151113, 0.        ,\n",
       "        0.        ],\n",
       "       [0.        , 0.05140956, 0.        , ..., 0.        , 0.        ,\n",
       "        0.        ],\n",
       "       [0.        , 0.03802458, 0.        , ..., 0.        , 0.        ,\n",
       "        0.11448619]])"
      ]
     },
     "execution_count": 102,
     "metadata": {},
     "output_type": "execute_result"
    }
   ],
   "source": [
    "ppmi_matrix"
   ]
  },
  {
   "cell_type": "code",
   "execution_count": 103,
   "id": "h12onhL6mP73",
   "metadata": {
    "executionInfo": {
     "elapsed": 15261,
     "status": "ok",
     "timestamp": 1692832085647,
     "user": {
      "displayName": "MARIANO AGUSTIN DOLHARE",
      "userId": "02083329923890892529"
     },
     "user_tz": 180
    },
    "id": "h12onhL6mP73"
   },
   "outputs": [],
   "source": [
    "red = TruncatedSVD(n_components=500)\n",
    "ppmi_svd = red.fit_transform(ppmi_matrix)"
   ]
  },
  {
   "cell_type": "code",
   "execution_count": 104,
   "id": "V9xZG9Rbm3jo",
   "metadata": {
    "colab": {
     "base_uri": "https://localhost:8080/",
     "height": 74
    },
    "executionInfo": {
     "elapsed": 34,
     "status": "ok",
     "timestamp": 1692832085650,
     "user": {
      "displayName": "MARIANO AGUSTIN DOLHARE",
      "userId": "02083329923890892529"
     },
     "user_tz": 180
    },
    "id": "V9xZG9Rbm3jo",
    "outputId": "a1b5ad36-d078-42ed-857c-ba754b510a77"
   },
   "outputs": [
    {
     "data": {
      "text/html": [
       "<style>#sk-container-id-6 {color: black;background-color: white;}#sk-container-id-6 pre{padding: 0;}#sk-container-id-6 div.sk-toggleable {background-color: white;}#sk-container-id-6 label.sk-toggleable__label {cursor: pointer;display: block;width: 100%;margin-bottom: 0;padding: 0.3em;box-sizing: border-box;text-align: center;}#sk-container-id-6 label.sk-toggleable__label-arrow:before {content: \"▸\";float: left;margin-right: 0.25em;color: #696969;}#sk-container-id-6 label.sk-toggleable__label-arrow:hover:before {color: black;}#sk-container-id-6 div.sk-estimator:hover label.sk-toggleable__label-arrow:before {color: black;}#sk-container-id-6 div.sk-toggleable__content {max-height: 0;max-width: 0;overflow: hidden;text-align: left;background-color: #f0f8ff;}#sk-container-id-6 div.sk-toggleable__content pre {margin: 0.2em;color: black;border-radius: 0.25em;background-color: #f0f8ff;}#sk-container-id-6 input.sk-toggleable__control:checked~div.sk-toggleable__content {max-height: 200px;max-width: 100%;overflow: auto;}#sk-container-id-6 input.sk-toggleable__control:checked~label.sk-toggleable__label-arrow:before {content: \"▾\";}#sk-container-id-6 div.sk-estimator input.sk-toggleable__control:checked~label.sk-toggleable__label {background-color: #d4ebff;}#sk-container-id-6 div.sk-label input.sk-toggleable__control:checked~label.sk-toggleable__label {background-color: #d4ebff;}#sk-container-id-6 input.sk-hidden--visually {border: 0;clip: rect(1px 1px 1px 1px);clip: rect(1px, 1px, 1px, 1px);height: 1px;margin: -1px;overflow: hidden;padding: 0;position: absolute;width: 1px;}#sk-container-id-6 div.sk-estimator {font-family: monospace;background-color: #f0f8ff;border: 1px dotted black;border-radius: 0.25em;box-sizing: border-box;margin-bottom: 0.5em;}#sk-container-id-6 div.sk-estimator:hover {background-color: #d4ebff;}#sk-container-id-6 div.sk-parallel-item::after {content: \"\";width: 100%;border-bottom: 1px solid gray;flex-grow: 1;}#sk-container-id-6 div.sk-label:hover label.sk-toggleable__label {background-color: #d4ebff;}#sk-container-id-6 div.sk-serial::before {content: \"\";position: absolute;border-left: 1px solid gray;box-sizing: border-box;top: 0;bottom: 0;left: 50%;z-index: 0;}#sk-container-id-6 div.sk-serial {display: flex;flex-direction: column;align-items: center;background-color: white;padding-right: 0.2em;padding-left: 0.2em;position: relative;}#sk-container-id-6 div.sk-item {position: relative;z-index: 1;}#sk-container-id-6 div.sk-parallel {display: flex;align-items: stretch;justify-content: center;background-color: white;position: relative;}#sk-container-id-6 div.sk-item::before, #sk-container-id-6 div.sk-parallel-item::before {content: \"\";position: absolute;border-left: 1px solid gray;box-sizing: border-box;top: 0;bottom: 0;left: 50%;z-index: -1;}#sk-container-id-6 div.sk-parallel-item {display: flex;flex-direction: column;z-index: 1;position: relative;background-color: white;}#sk-container-id-6 div.sk-parallel-item:first-child::after {align-self: flex-end;width: 50%;}#sk-container-id-6 div.sk-parallel-item:last-child::after {align-self: flex-start;width: 50%;}#sk-container-id-6 div.sk-parallel-item:only-child::after {width: 0;}#sk-container-id-6 div.sk-dashed-wrapped {border: 1px dashed gray;margin: 0 0.4em 0.5em 0.4em;box-sizing: border-box;padding-bottom: 0.4em;background-color: white;}#sk-container-id-6 div.sk-label label {font-family: monospace;font-weight: bold;display: inline-block;line-height: 1.2em;}#sk-container-id-6 div.sk-label-container {text-align: center;}#sk-container-id-6 div.sk-container {/* jupyter's `normalize.less` sets `[hidden] { display: none; }` but bootstrap.min.css set `[hidden] { display: none !important; }` so we also need the `!important` here to be able to override the default hidden behavior on the sphinx rendered scikit-learn.org. See: https://github.com/scikit-learn/scikit-learn/issues/21755 */display: inline-block !important;position: relative;}#sk-container-id-6 div.sk-text-repr-fallback {display: none;}</style><div id=\"sk-container-id-6\" class=\"sk-top-container\"><div class=\"sk-text-repr-fallback\"><pre>NearestNeighbors(metric=&#x27;cosine&#x27;, n_neighbors=20)</pre><b>In a Jupyter environment, please rerun this cell to show the HTML representation or trust the notebook. <br />On GitHub, the HTML representation is unable to render, please try loading this page with nbviewer.org.</b></div><div class=\"sk-container\" hidden><div class=\"sk-item\"><div class=\"sk-estimator sk-toggleable\"><input class=\"sk-toggleable__control sk-hidden--visually\" id=\"sk-estimator-id-6\" type=\"checkbox\" checked><label for=\"sk-estimator-id-6\" class=\"sk-toggleable__label sk-toggleable__label-arrow\">NearestNeighbors</label><div class=\"sk-toggleable__content\"><pre>NearestNeighbors(metric=&#x27;cosine&#x27;, n_neighbors=20)</pre></div></div></div></div></div>"
      ],
      "text/plain": [
       "NearestNeighbors(metric='cosine', n_neighbors=20)"
      ]
     },
     "execution_count": 104,
     "metadata": {},
     "output_type": "execute_result"
    }
   ],
   "source": [
    "neigh = NearestNeighbors(n_neighbors=20, metric=\"cosine\")\n",
    "neigh.fit(ppmi_svd)"
   ]
  },
  {
   "cell_type": "code",
   "execution_count": 106,
   "id": "FqhMHafzmX4P",
   "metadata": {
    "colab": {
     "base_uri": "https://localhost:8080/"
    },
    "executionInfo": {
     "elapsed": 314,
     "status": "ok",
     "timestamp": 1692832095469,
     "user": {
      "displayName": "MARIANO AGUSTIN DOLHARE",
      "userId": "02083329923890892529"
     },
     "user_tz": 180
    },
    "id": "FqhMHafzmX4P",
    "outputId": "e6f1a50e-8097-4b41-8ddd-2c8d521a5780"
   },
   "outputs": [
    {
     "name": "stdout",
     "output_type": "stream",
     "text": [
      "friends\n",
      "told\n",
      "family\n",
      "asked\n",
      "coming\n",
      "happened\n",
      "tell\n",
      "her\n",
      "heard\n",
      "ever\n",
      "already\n",
      "come\n",
      "remember\n",
      "ask\n",
      "perhaps\n",
      "jews\n",
      "let\n",
      "few\n",
      "anyway\n",
      "myself\n"
     ]
    }
   ],
   "source": [
    "idx_1 = tokenizer.word_index[\"friends\"]\n",
    "_, neig = neigh.kneighbors(ppmi_svd[idx_1:idx_1+1])\n",
    "\n",
    "for n in neig[0]:\n",
    "    print(tokenizer.index_word[n])"
   ]
  },
  {
   "cell_type": "code",
   "execution_count": null,
   "id": "P7cuyhiEmu8M",
   "metadata": {
    "id": "P7cuyhiEmu8M"
   },
   "outputs": [],
   "source": []
  }
 ],
 "metadata": {
  "accelerator": "GPU",
  "colab": {
   "gpuType": "T4",
   "provenance": []
  },
  "kernelspec": {
   "display_name": "redes_env",
   "language": "python",
   "name": "redes_env"
  },
  "language_info": {
   "codemirror_mode": {
    "name": "ipython",
    "version": 3
   },
   "file_extension": ".py",
   "mimetype": "text/x-python",
   "name": "python",
   "nbconvert_exporter": "python",
   "pygments_lexer": "ipython3",
   "version": "3.11.3"
  }
 },
 "nbformat": 4,
 "nbformat_minor": 5
}
